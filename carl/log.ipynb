Logbook for Carl 
2020-12-10
Issues: Neither GitHub nor nbviewer renders my created ipynb file. GitHub: "Sorry, something went wrong. Reload?
Steps:
Checked for any naming requirements
Looked at other ipynb files in the repository and had the same problem with some of them
The ones working and not seem consitent on reload and also viewing after some time
