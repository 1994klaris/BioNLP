Logbook for Carl 
2020-12-10
Issues: Neither GitHub nor nbviewer renders created ipynb file. GitHub: "Sorry, something went wrong. Reload?
Steps:
Checked for any naming requirements
Looked at other ipynb files in the repository and had the same problem with some of them
The ones working and not seem consitent on reload and also viewing after some time
Answers online present no solution
Next: Vill check some more about useage of github and otherwise ask Sonja at meeting tomorrow. 
