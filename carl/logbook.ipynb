{
 "metadata": {
  "language_info": {
   "codemirror_mode": {
    "name": "ipython",
    "version": 3
   },
   "file_extension": ".py",
   "mimetype": "text/x-python",
   "name": "python",
   "nbconvert_exporter": "python",
   "pygments_lexer": "ipython3",
   "version": 3
  },
  "orig_nbformat": 2
 },
 "nbformat": 4,
 "nbformat_minor": 2,
 "cells": [
  {
   "source": [
    "# 15/12/20\n",
    "\n",
    "**Aim:** \n",
    "\n",
    "* Setup virtualenv for python in wsl\n",
    "* Set up SSH connection to nlp-covid-19-triage\n",
    "    * check for usage across devices and wsl\n",
    "* Define privacy protocol for file handling in project\n",
    "* Start INCEpTION guide and questions base. Things to adress\n",
    "    * Server\n",
    "    * Multiple users on same machine\n",
    "    * Backup and file usage if INCEpTION is broken\n",
    "\n",
    "\n",
    "**Result:** \n",
    "\n",
    "* Set up working connection to SSH-tunnel with help from Anders: windows(wsl)-> the LU VPN -> Access to Titan machine. We also set up accessability through vscode remote. \n",
    "\n",
    "**Next step:** "
   ],
   "cell_type": "markdown",
   "metadata": {}
  }
 ]
}