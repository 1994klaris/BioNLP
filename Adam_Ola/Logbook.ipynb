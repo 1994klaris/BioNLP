{
 "cells": [
  {
   "cell_type": "markdown",
   "id": "845b3636",
   "metadata": {},
   "source": [
    "## Logbook Adam & Ola"
   ]
  },
  {
   "cell_type": "markdown",
   "id": "01c22acd",
   "metadata": {},
   "source": [
    "**1st of january 2021**\n"
   ]
  },
  {
   "cell_type": "markdown",
   "id": "75e2831a",
   "metadata": {},
   "source": [
    "**Aim** - is the Aim    \n",
    "\n",
    "**Goal** - is the Goal"
   ]
  },
  {
   "cell_type": "markdown",
   "id": "e5798bd1",
   "metadata": {},
   "source": [
    "**Result** - "
   ]
  }
 ],
 "metadata": {
  "kernelspec": {
   "display_name": "Python 3",
   "language": "python",
   "name": "python3"
  },
  "language_info": {
   "codemirror_mode": {
    "name": "ipython",
    "version": 3
   },
   "file_extension": ".py",
   "mimetype": "text/x-python",
   "name": "python",
   "nbconvert_exporter": "python",
   "pygments_lexer": "ipython3",
   "version": "3.7.10"
  }
 },
 "nbformat": 4,
 "nbformat_minor": 5
}
