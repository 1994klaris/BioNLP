{
 "cells": [
  {
   "cell_type": "markdown",
   "metadata": {},
   "source": [
    "## Logbook Adam & Ola"
   ]
  },
  {
   "cell_type": "markdown",
   "metadata": {},
   "source": [
    "**Thursday 30th March 2021**  (Adam)  \n",
    "\n",
    "**Aim** - understand the task and expressions in the instructions.  \n",
    "\n",
    "**Step** -  I’ve understood that “named entities” are real world objects that can be named. NER stands for Named-Entity Recognition which is to locate and classify named entities, basically to look at the sentence and categorise the words. NEL stands for Named-Entity Linking, which is to link words with information, such as linking keywords in a wikipedia article.\n",
    "I’ve made the assumption that NER includes classification, making it NERC - will have to check though.  \n",
    "\n",
    "**Next step** - Check my Anaconda installation\n",
    "***\n"
   ]
  },
  {
   "cell_type": "markdown",
   "metadata": {},
   "source": [
    "**Tuesday 1st April 2021**  (Adam)  \n",
    "\n",
    "**Aim** - Check my Anaconda installation  \n",
    "\n",
    "**Step** -  I’ve had to reinstall my anaconda installation and I do believe it’s now working\n",
    "\n",
    "**Next step** - Download and run nlp_2021_alexander_petter\n",
    "***"
   ]
  },
  {
   "cell_type": "markdown",
   "metadata": {},
   "source": [
    "**Monday 6th April 2021**  \n",
    "\n",
    "**Aim** - Download and run nlp_2021_alexander_petter  \n",
    "\n",
    "**Step** -  We've had some major problems with getting the code to run. We had to do some separate installations with pytorch to get it working. We removed the pytorch line in config, and installed it by itself through pytorch.org\n",
    "\n",
    "**Next step** - Continue\n",
    "***"
   ]
  },
  {
   "cell_type": "markdown",
   "metadata": {},
   "source": [
    "**Tuesday 7th April 2021**  \n",
    "\n",
    "**Aim** - Download and run nlp_2021_alexander_petter  \n",
    "\n",
    "**Step** -  Still struggling with getting the code to run, we have swapped methods by going to the downloader method instead of the cord_loader. we had problems with CUDA and had to use this guide: https://www.joe0.com/2019/10/19/how-resolve-tensorflow-2-0-error-could-not-load-dynamic-library-cudart64_100-dll-dlerror-cudart64_100-dll-not-found/ to make it work. In the end we got the downloader to work instead\n",
    "\n",
    "**Next step** - Continue\n",
    "***"
   ]
  },
  {
   "cell_type": "markdown",
   "metadata": {},
   "source": [
    "**Thursday 8th April 2021**\n",
    "\n",
    "**Aim** - Download and run nlp_2021_alexander_petter  \n",
    "\n",
    "**Step** - We got the downloader to work, but couldn’t understand the next step.\n",
    "\n",
    "**Next step** - Take a break, ask and do reading while waiting\n",
    "***"
   ]
  },
  {
   "cell_type": "markdown",
   "metadata": {},
   "source": [
    "**Sunday 11th April 2021**\n",
    "\n",
    "**Aim** - Read about BioBert  \n",
    "\n",
    "**Step** - BioBERT is a domain-specific language representation model pre-trained on large-scale biomedical corpora, which outperforms BERT in biomedical usace. We have read the paper and tried to understand the majority of its content.\n",
    "\n",
    "**Next step** - Run nlp_2021_alexander_petter\n",
    "***"
   ]
  },
  {
   "cell_type": "markdown",
   "metadata": {},
   "source": [
    "**Monday 12th April 2021**\n",
    "\n",
    "**Aim** - Setup git  \n",
    "\n",
    "**Step** - Setup git for logbook etc. Just admi\n",
    "\n",
    "**Next step** - Setup Git, read instructions\n",
    "***"
   ]
  },
  {
   "cell_type": "markdown",
   "metadata": {},
   "source": [
    "**Thursday 15th April 2021**\n",
    "\n",
    "**Aim** - Read about HunFlair  \n",
    "\n",
    "**Step** - HunFlair is a mix between a Flair character-level language model and fastText word embeddings trained on roughly 24 \n",
    "million abstracts from biomedical articles along with 3 million full text articles. We have read the paper and tried to \n",
    "understand its content. \n",
    "\n",
    "**Next step** - Setup Git repository, run the FlairNLP\n",
    "***"
   ]
  },
  {
   "cell_type": "markdown",
   "metadata": {},
   "source": [
    "**Friday 16th April 2021**\n",
    "\n",
    "**Aim** - Setup Git repository  \n",
    "\n",
    "**Step** - We created a new repository for our project. \n",
    "\n",
    "**Next step** - run the FlairNLP\n",
    "***"
   ]
  },
  {
   "cell_type": "markdown",
   "metadata": {},
   "source": [
    "**Friday 16th April 2021**\n",
    "\n",
    "**Aim** - run the FlairNLP  \n",
    "\n",
    "**Step** - We ran an predition example included in FlairNLP. It works fine.  \n",
    "\n",
    "**Next step** - Run the flair models on the output from downloader in nlp_2021_alexander_petter \n",
    "***"
   ]
  },
  {
   "cell_type": "markdown",
   "metadata": {},
   "source": [
    "**Sunday 11th April 2021**\n",
    "\n",
    "**Aim** - Run nlp_2021_alexander_petter \n",
    "\n",
    "**Step** - We edited the config file and were able to run the steps downloader, sentencer, NER, analysis and metrics. It took approximately 4 hours to compute it all\n",
    "\n",
    "**Next step** - Setup Git, read instructions\n",
    "***"
   ]
  },
  {
   "cell_type": "markdown",
   "metadata": {},
   "source": [
    "**Monday 19th April 2021**\n",
    "\n",
    "**Aim** - Start task \"train BioBERT NER models on Hunflair corpora\"  \n",
    "\n",
    "**Step** - We started the task of training BioBert ner models on Hunflair corpora. With the help of Marcus we found the Hunflair\n",
    "copora files. We are however stuck on the part of using these files to train BioBERT, the files are in a different format and we\n",
    "are confused as to how we should use them for training. \n",
    "\n",
    "**Next step** - Continue the task and and incorporate the Hunflair into nlp_2021_alexander_petter \n",
    "***"
   ]
  }
 ],
 "metadata": {
  "kernelspec": {
   "display_name": "Python 3",
   "language": "python",
   "name": "python3"
  },
  "language_info": {
   "codemirror_mode": {
    "name": "ipython",
    "version": 3
   },
   "file_extension": ".py",
   "mimetype": "text/x-python",
   "name": "python",
   "nbconvert_exporter": "python",
   "pygments_lexer": "ipython3",
   "version": "3.8.5"
  }
 },
 "nbformat": 4,
 "nbformat_minor": 5
}
