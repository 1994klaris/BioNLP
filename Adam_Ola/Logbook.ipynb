{
 "cells": [
  {
   "cell_type": "markdown",
   "id": "845b3636",
   "metadata": {},
   "source": [
    "## Logbook Adam & Ola"
   ]
  },
  {
   "cell_type": "markdown",
   "id": "802b40f7",
   "metadata": {},
   "source": [
    "**1st of january 2021**\n"
   ]
  },
  {
   "cell_type": "markdown",
   "id": "a65f22f8",
   "metadata": {},
   "source": [
    "**Aim** - is the Aim\n",
    "**Goal** - is the Goal"
   ]
  }
 ],
 "metadata": {
  "kernelspec": {
   "display_name": "Python 3",
   "language": "python",
   "name": "python3"
  },
  "language_info": {
   "codemirror_mode": {
    "name": "ipython",
    "version": 3
   },
   "file_extension": ".py",
   "mimetype": "text/x-python",
   "name": "python",
   "nbconvert_exporter": "python",
   "pygments_lexer": "ipython3",
   "version": "3.7.10"
  }
 },
 "nbformat": 4,
 "nbformat_minor": 5
}
