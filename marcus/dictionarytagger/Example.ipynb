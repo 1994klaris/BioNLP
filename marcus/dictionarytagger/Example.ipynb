{
 "cells": [
  {
   "cell_type": "code",
   "execution_count": 1,
   "metadata": {},
   "outputs": [],
   "source": [
    "from mentionindex import MentionIndex"
   ]
  },
  {
   "cell_type": "code",
   "execution_count": 2,
   "metadata": {},
   "outputs": [],
   "source": [
    "mi = MentionIndex()"
   ]
  },
  {
   "cell_type": "code",
   "execution_count": 3,
   "metadata": {},
   "outputs": [
    {
     "data": {
      "text/plain": [
       "True"
      ]
     },
     "execution_count": 3,
     "metadata": {},
     "output_type": "execute_result"
    }
   ],
   "source": [
    "mi.connect_jvm(6006)"
   ]
  },
  {
   "cell_type": "code",
   "execution_count": 4,
   "metadata": {},
   "outputs": [],
   "source": [
    "mi.build_index(\"diseases.txt\", \"index.fst\")"
   ]
  },
  {
   "cell_type": "code",
   "execution_count": 5,
   "metadata": {},
   "outputs": [],
   "source": [
    "index = mi.load_index(\"index.fst\")"
   ]
  },
  {
   "cell_type": "code",
   "execution_count": 6,
   "metadata": {},
   "outputs": [],
   "source": [
    "from docria import Document, set_large_screen"
   ]
  },
  {
   "cell_type": "code",
   "execution_count": 7,
   "metadata": {},
   "outputs": [],
   "source": [
    "doc = Document()\n",
    "doc.maintext = \"Acquired Immunodeficiency Syndrome is Alkhurma hemorrhagic fever AHF ALS Amyotrophic Lateral Sclerosis Alzheimer's Disease American Trypanosomiasis Chagas Disease\"\n",
    "doc = mi.process(index, doc)"
   ]
  },
  {
   "cell_type": "code",
   "execution_count": 8,
   "metadata": {},
   "outputs": [],
   "source": [
    "set_large_screen()"
   ]
  },
  {
   "cell_type": "code",
   "execution_count": 9,
   "metadata": {},
   "outputs": [
    {
     "name": "stdout",
     "output_type": "stream",
     "text": [
      "[matches]\n",
      " * id    : i64\n",
      " * terms : noderef_array[layer=terms]\n",
      " * text  : span[context=main]\n",
      "\n",
      "[terms]\n",
      " * term : str\n",
      " * text : span[context=main]\n",
      " * type : str\n",
      "\n"
     ]
    }
   ],
   "source": [
    "doc.printschema()"
   ]
  },
  {
   "cell_type": "code",
   "execution_count": 10,
   "metadata": {},
   "outputs": [
    {
     "data": {
      "text/html": [
       "<table><thead><tr><th colspan='4' style='text-align:center'><em>Layer &#x27;terms&#x27; with 19 nodes.</em></th></tr><tr><th style='text-align:left'>#</th><th style='text-align:left'>term</th><th style='text-align:left'>text</th><th style='text-align:left'>type</th></tr></thead><tbody><tr><td style='text-align:left'>0</td><td style='text-align:left'>&#x27;Acquired&#x27;</td><td style='text-align:left'>span(main[0:8]) = &#x27;Acquired&#x27;</td><td style='text-align:left'>&#x27;WORD_TITLE_CASE&#x27;</td></tr><tr><td style='text-align:left'>1</td><td style='text-align:left'>&#x27;Immunodeficiency&#x27;</td><td style='text-align:left'>span(main[9:25]) = &#x27;Immunodeficiency&#x27;</td><td style='text-align:left'>&#x27;WORD_TITLE_CASE&#x27;</td></tr><tr><td style='text-align:left'>2</td><td style='text-align:left'>&#x27;Syndrome&#x27;</td><td style='text-align:left'>span(main[26:34]) = &#x27;Syndrome&#x27;</td><td style='text-align:left'>&#x27;WORD_TITLE_CASE&#x27;</td></tr><tr><td style='text-align:left'>3</td><td style='text-align:left'>&#x27;is&#x27;</td><td style='text-align:left'>span(main[35:37]) = &#x27;is&#x27;</td><td style='text-align:left'>&#x27;WORD&#x27;</td></tr><tr><td style='text-align:left'>4</td><td style='text-align:left'>&#x27;Alkhurma&#x27;</td><td style='text-align:left'>span(main[38:46]) = &#x27;Alkhurma&#x27;</td><td style='text-align:left'>&#x27;WORD_TITLE_CASE&#x27;</td></tr><tr><td style='text-align:left'>5</td><td style='text-align:left'>&#x27;hemorrhagic&#x27;</td><td style='text-align:left'>span(main[47:58]) = &#x27;hemorrhagic&#x27;</td><td style='text-align:left'>&#x27;WORD&#x27;</td></tr><tr><td style='text-align:left'>6</td><td style='text-align:left'>&#x27;fever&#x27;</td><td style='text-align:left'>span(main[59:64]) = &#x27;fever&#x27;</td><td style='text-align:left'>&#x27;WORD&#x27;</td></tr><tr><td style='text-align:left'>7</td><td style='text-align:left'>&#x27;AHF&#x27;</td><td style='text-align:left'>span(main[65:68]) = &#x27;AHF&#x27;</td><td style='text-align:left'>&#x27;WORD_ACRONYM&#x27;</td></tr><tr><td style='text-align:left'>8</td><td style='text-align:left'>&#x27;ALS&#x27;</td><td style='text-align:left'>span(main[69:72]) = &#x27;ALS&#x27;</td><td style='text-align:left'>&#x27;WORD_ACRONYM&#x27;</td></tr><tr><td style='text-align:left'>9</td><td style='text-align:left'>&#x27;Amyotrophic&#x27;</td><td style='text-align:left'>span(main[73:84]) = &#x27;Amyotrophic&#x27;</td><td style='text-align:left'>&#x27;WORD_TITLE_CASE&#x27;</td></tr><tr><td style='text-align:left'>10</td><td style='text-align:left'>&#x27;Lateral&#x27;</td><td style='text-align:left'>span(main[85:92]) = &#x27;Lateral&#x27;</td><td style='text-align:left'>&#x27;WORD_TITLE_CASE&#x27;</td></tr><tr><td style='text-align:left'>11</td><td style='text-align:left'>&#x27;Sclerosis&#x27;</td><td style='text-align:left'>span(main[93:102]) = &#x27;Sclerosis&#x27;</td><td style='text-align:left'>&#x27;WORD_TITLE_CASE&#x27;</td></tr><tr><td style='text-align:left'>12</td><td style='text-align:left'>&#x27;Alzheimer&#x27;</td><td style='text-align:left'>span(main[103:112]) = &#x27;Alzheimer&#x27;</td><td style='text-align:left'>&#x27;WORD_TITLE_CASE&#x27;</td></tr><tr><td style='text-align:left'>13</td><td style='text-align:left'>&quot;&#x27;s&quot;</td><td style='text-align:left'>span(main[112:114]) = &quot;&#x27;s&quot;</td><td style='text-align:left'>&#x27;ELISION_SUFFIX&#x27;</td></tr><tr><td style='text-align:left'>14</td><td style='text-align:left'>&#x27;Disease&#x27;</td><td style='text-align:left'>span(main[115:122]) = &#x27;Disease&#x27;</td><td style='text-align:left'>&#x27;WORD_TITLE_CASE&#x27;</td></tr><tr><td style='text-align:left'>15</td><td style='text-align:left'>&#x27;American&#x27;</td><td style='text-align:left'>span(main[123:131]) = &#x27;American&#x27;</td><td style='text-align:left'>&#x27;WORD_TITLE_CASE&#x27;</td></tr><tr><td style='text-align:left'>16</td><td style='text-align:left'>&#x27;Trypanosomiasis&#x27;</td><td style='text-align:left'>span(main[132:147]) = &#x27;Trypanosomiasis&#x27;</td><td style='text-align:left'>&#x27;WORD_TITLE_CASE&#x27;</td></tr><tr><td style='text-align:left'>17</td><td style='text-align:left'>&#x27;Chagas&#x27;</td><td style='text-align:left'>span(main[148:154]) = &#x27;Chagas&#x27;</td><td style='text-align:left'>&#x27;WORD_TITLE_CASE&#x27;</td></tr><tr><td style='text-align:left'>18</td><td style='text-align:left'>&#x27;Disease&#x27;</td><td style='text-align:left'>span(main[155:162]) = &#x27;Disease&#x27;</td><td style='text-align:left'>&#x27;WORD_TITLE_CASE&#x27;</td></tr></tbody></table>"
      ],
      "text/plain": [
       "Layer(terms, N=19)"
      ]
     },
     "execution_count": 10,
     "metadata": {},
     "output_type": "execute_result"
    }
   ],
   "source": [
    "doc[\"terms\"]"
   ]
  },
  {
   "cell_type": "code",
   "execution_count": 11,
   "metadata": {},
   "outputs": [
    {
     "data": {
      "text/plain": [
       "span(main[38:64]) = 'Alkhurma hemorrhagic fever'"
      ]
     },
     "execution_count": 11,
     "metadata": {},
     "output_type": "execute_result"
    }
   ],
   "source": [
    "doc[\"matches\"][0][\"text\"]"
   ]
  },
  {
   "cell_type": "code",
   "execution_count": 12,
   "metadata": {},
   "outputs": [
    {
     "data": {
      "text/plain": [
       "[Node<terms#4>, Node<terms#5>, Node<terms#6>]"
      ]
     },
     "execution_count": 12,
     "metadata": {},
     "output_type": "execute_result"
    }
   ],
   "source": [
    "doc[\"matches\"][0][\"terms\"]"
   ]
  },
  {
   "cell_type": "code",
   "execution_count": 13,
   "metadata": {},
   "outputs": [],
   "source": [
    "mi.build_keyed_index(\"diseases_key.txt\", \"index_key.fst\")"
   ]
  },
  {
   "cell_type": "code",
   "execution_count": 14,
   "metadata": {},
   "outputs": [],
   "source": [
    "indx_key = mi.load_keyed_index(\"index_key.fst\")"
   ]
  },
  {
   "cell_type": "code",
   "execution_count": 16,
   "metadata": {},
   "outputs": [],
   "source": [
    "doc2 = Document()\n",
    "doc2.maintext = \"Acquired Immunodeficiency Syndrome is Alkhurma hemorrhagic fever AHF ALS Amyotrophic Lateral Sclerosis Alzheimer's Disease American Trypanosomiasis Chagas Disease\"\n",
    "doc2 = mi.process(indx_key, doc2)"
   ]
  },
  {
   "cell_type": "code",
   "execution_count": 17,
   "metadata": {},
   "outputs": [
    {
     "name": "stdout",
     "output_type": "stream",
     "text": [
      "[matches]\n",
      " * ids   : str\n",
      " * terms : noderef_array[layer=terms]\n",
      " * text  : span[context=main]\n",
      "\n",
      "[terms]\n",
      " * term : str\n",
      " * text : span[context=main]\n",
      " * type : str\n",
      "\n"
     ]
    }
   ],
   "source": [
    "doc2.printschema()"
   ]
  },
  {
   "cell_type": "code",
   "execution_count": 18,
   "metadata": {},
   "outputs": [
    {
     "data": {
      "text/html": [
       "<table><thead><tr><th colspan='4' style='text-align:center'><em>Layer &#x27;matches&#x27; with 7 nodes.</em></th></tr><tr><th style='text-align:left'>#</th><th style='text-align:left'>ids</th><th style='text-align:left'>terms</th><th style='text-align:left'>text</th></tr></thead><tbody><tr><td style='text-align:left'>0</td><td style='text-align:left'>&#x27;D0023\\tD0026&#x27;</td><td style='text-align:left'>[3 nodes from layer: terms]</td><td style='text-align:left'>span(main[38:64]) = &#x27;Alkhurma hemorrhagic fever&#x27;</td></tr><tr><td style='text-align:left'>1</td><td style='text-align:left'>&#x27;D0022\\tD0027&#x27;</td><td style='text-align:left'>[Node&lt;terms#7&gt;]</td><td style='text-align:left'>span(main[65:68]) = &#x27;AHF&#x27;</td></tr><tr><td style='text-align:left'>2</td><td style='text-align:left'>&#x27;D0028&#x27;</td><td style='text-align:left'>[Node&lt;terms#8&gt;]</td><td style='text-align:left'>span(main[69:72]) = &#x27;ALS&#x27;</td></tr><tr><td style='text-align:left'>3</td><td style='text-align:left'>&#x27;D0029&#x27;</td><td style='text-align:left'>[3 nodes from layer: terms]</td><td style='text-align:left'>span(main[73:102]) = &#x27;Amyotrophic Lateral Sclerosis&#x27;</td></tr><tr><td style='text-align:left'>4</td><td style='text-align:left'>&#x27;D0030&#x27;</td><td style='text-align:left'>[3 nodes from layer: terms]</td><td style='text-align:left'>span(main[103:122]) = &quot;Alzheimer&#x27;s Disease&quot;</td></tr><tr><td style='text-align:left'>5</td><td style='text-align:left'>&#x27;D0034&#x27;</td><td style='text-align:left'>[2 nodes from layer: terms]</td><td style='text-align:left'>span(main[123:147]) = &#x27;American Trypanosomiasis&#x27;</td></tr><tr><td style='text-align:left'>6</td><td style='text-align:left'>&#x27;D0035&#x27;</td><td style='text-align:left'>[2 nodes from layer: terms]</td><td style='text-align:left'>span(main[148:162]) = &#x27;Chagas Disease&#x27;</td></tr></tbody></table>"
      ],
      "text/plain": [
       "Layer(matches, N=7)"
      ]
     },
     "execution_count": 18,
     "metadata": {},
     "output_type": "execute_result"
    }
   ],
   "source": [
    "doc2[\"matches\"]"
   ]
  },
  {
   "cell_type": "code",
   "execution_count": 19,
   "metadata": {},
   "outputs": [
    {
     "data": {
      "text/plain": [
       "['D0023', 'D0026']"
      ]
     },
     "execution_count": 19,
     "metadata": {},
     "output_type": "execute_result"
    }
   ],
   "source": [
    "doc2[\"matches\"][0][\"ids\"].split(\"\\t\")"
   ]
  },
  {
   "cell_type": "code",
   "execution_count": null,
   "metadata": {},
   "outputs": [],
   "source": []
  }
 ],
 "metadata": {
  "kernelspec": {
   "display_name": "Python 3",
   "language": "python",
   "name": "python3"
  },
  "language_info": {
   "codemirror_mode": {
    "name": "ipython",
    "version": 3
   },
   "file_extension": ".py",
   "mimetype": "text/x-python",
   "name": "python",
   "nbconvert_exporter": "python",
   "pygments_lexer": "ipython3",
   "version": "3.6.8"
  }
 },
 "nbformat": 4,
 "nbformat_minor": 2
}
