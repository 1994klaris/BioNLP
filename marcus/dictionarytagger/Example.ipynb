{
 "cells": [
  {
   "cell_type": "code",
   "execution_count": 1,
   "metadata": {},
   "outputs": [],
   "source": [
    "from mentionindex import MentionIndex"
   ]
  },
  {
   "cell_type": "code",
   "execution_count": 2,
   "metadata": {},
   "outputs": [],
   "source": [
    "mi = MentionIndex()"
   ]
  },
  {
   "cell_type": "code",
   "execution_count": 3,
   "metadata": {},
   "outputs": [
    {
     "data": {
      "text/plain": [
       "True"
      ]
     },
     "execution_count": 3,
     "metadata": {},
     "output_type": "execute_result"
    }
   ],
   "source": [
    "mi.connect_jvm(6006)"
   ]
  },
  {
   "cell_type": "code",
   "execution_count": 5,
   "metadata": {},
   "outputs": [],
   "source": [
    "mi.build_index(\"diseases.txt\", \"index.fst\")"
   ]
  },
  {
   "cell_type": "code",
   "execution_count": 6,
   "metadata": {},
   "outputs": [],
   "source": [
    "index = mi.load_index(\"index.fst\")"
   ]
  },
  {
   "cell_type": "code",
   "execution_count": 16,
   "metadata": {},
   "outputs": [],
   "source": [
    "from docria import Document, set_large_screen"
   ]
  },
  {
   "cell_type": "code",
   "execution_count": 9,
   "metadata": {},
   "outputs": [],
   "source": [
    "doc = Document()\n",
    "doc.maintext = \"Acquired Immunodeficiency Syndrome is Alkhurma hemorrhagic fever AHF ALS Amyotrophic Lateral Sclerosis Alzheimer's Disease American Trypanosomiasis Chagas Disease\"\n",
    "doc = mi.process(index, doc)"
   ]
  },
  {
   "cell_type": "code",
   "execution_count": 17,
   "metadata": {},
   "outputs": [],
   "source": [
    "set_large_screen()"
   ]
  },
  {
   "cell_type": "code",
   "execution_count": 18,
   "metadata": {},
   "outputs": [
    {
     "name": "stdout",
     "output_type": "stream",
     "text": [
      "[matches]\n",
      " * id    : i64\n",
      " * terms : noderef_array[layer=terms]\n",
      " * text  : span[context=main]\n",
      "\n",
      "[terms]\n",
      " * term : str\n",
      " * text : span[context=main]\n",
      " * type : str\n",
      "\n"
     ]
    }
   ],
   "source": [
    "doc.printschema()"
   ]
  },
  {
   "cell_type": "code",
   "execution_count": 19,
   "metadata": {},
   "outputs": [
    {
     "data": {
      "text/html": [
       "<table><thead><tr><th colspan='4' style='text-align:center'><em>Layer &#x27;matches&#x27; with 8 nodes.</em></th></tr><tr><th style='text-align:left'>#</th><th style='text-align:left'>id</th><th style='text-align:left'>terms</th><th style='text-align:left'>text</th></tr></thead><tbody><tr><td style='text-align:left'>0</td><td style='text-align:left'>7</td><td style='text-align:left'>[3 nodes from layer: terms]</td><td style='text-align:left'>span(main[0:34]) = &#x27;Acquired Immunodeficiency Syndrome&#x27;</td></tr><tr><td style='text-align:left'>1</td><td style='text-align:left'>22</td><td style='text-align:left'>[3 nodes from layer: terms]</td><td style='text-align:left'>span(main[38:64]) = &#x27;Alkhurma hemorrhagic fever&#x27;</td></tr><tr><td style='text-align:left'>2</td><td style='text-align:left'>21</td><td style='text-align:left'>[Node&lt;terms#18&gt;]</td><td style='text-align:left'>span(main[65:68]) = &#x27;AHF&#x27;</td></tr><tr><td style='text-align:left'>3</td><td style='text-align:left'>27</td><td style='text-align:left'>[Node&lt;terms#18&gt;]</td><td style='text-align:left'>span(main[69:72]) = &#x27;ALS&#x27;</td></tr><tr><td style='text-align:left'>4</td><td style='text-align:left'>28</td><td style='text-align:left'>[3 nodes from layer: terms]</td><td style='text-align:left'>span(main[73:102]) = &#x27;Amyotrophic Lateral Sclerosis&#x27;</td></tr><tr><td style='text-align:left'>5</td><td style='text-align:left'>29</td><td style='text-align:left'>[3 nodes from layer: terms]</td><td style='text-align:left'>span(main[103:122]) = &quot;Alzheimer&#x27;s Disease&quot;</td></tr><tr><td style='text-align:left'>6</td><td style='text-align:left'>33</td><td style='text-align:left'>[2 nodes from layer: terms]</td><td style='text-align:left'>span(main[123:147]) = &#x27;American Trypanosomiasis&#x27;</td></tr><tr><td style='text-align:left'>7</td><td style='text-align:left'>34</td><td style='text-align:left'>[2 nodes from layer: terms]</td><td style='text-align:left'>span(main[148:162]) = &#x27;Chagas Disease&#x27;</td></tr></tbody></table>"
      ],
      "text/plain": [
       "Layer(matches, N=8)"
      ]
     },
     "execution_count": 19,
     "metadata": {},
     "output_type": "execute_result"
    }
   ],
   "source": [
    "doc[\"matches\"]"
   ]
  },
  {
   "cell_type": "code",
   "execution_count": null,
   "metadata": {},
   "outputs": [],
   "source": []
  }
 ],
 "metadata": {
  "kernelspec": {
   "display_name": "Python 3",
   "language": "python",
   "name": "python3"
  },
  "language_info": {
   "codemirror_mode": {
    "name": "ipython",
    "version": 3
   },
   "file_extension": ".py",
   "mimetype": "text/x-python",
   "name": "python",
   "nbconvert_exporter": "python",
   "pygments_lexer": "ipython3",
   "version": "3.6.8"
  }
 },
 "nbformat": 4,
 "nbformat_minor": 2
}
