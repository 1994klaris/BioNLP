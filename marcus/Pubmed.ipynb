{
 "cells": [
  {
   "cell_type": "code",
   "execution_count": 1,
   "metadata": {},
   "outputs": [],
   "source": [
    "from docria import Document, DataTypes as T, NodeSpan, set_large_screen, MsgpackCodec, MsgpackDocument\n",
    "from docria.storage import MsgpackDocumentIO, MsgpackDocumentReader, MsgpackDocumentWriter\n",
    "from lxml import etree\n",
    "import regex as re"
   ]
  },
  {
   "cell_type": "markdown",
   "metadata": {},
   "source": [
    "## Import"
   ]
  },
  {
   "cell_type": "code",
   "execution_count": 2,
   "metadata": {},
   "outputs": [
    {
     "name": "stdout",
     "output_type": "stream",
     "text": [
      "<?xml version=\"1.0\" encoding=\"utf-8\"?>\n",
      "<!DOCTYPE PubmedArticleSet SYSTEM \"http://dtd.nlm.nih.gov/ncbi/pubmed/out/pubmed_190101.dtd\">\n",
      "<PubmedArticleSet>\n",
      "  <PubmedArticle>\n",
      "    <MedlineCitation Status=\"MEDLINE\" Owner=\"NLM\">\n",
      "      <PMID Version=\"1\">2393846</PMID>\n",
      "      <DateCompleted>\n",
      "        <Year>1990</Year>\n",
      "        <Month>10</Month>\n",
      "        <Day>09</Day>\n",
      "      </DateCompleted>\n",
      "      <DateRevised>\n",
      "        <Year>2013</Year>\n",
      "        <Month>11</Month>\n",
      "        <Day>21</Day>\n",
      "      </DateRevised>\n",
      "      <Article PubModel=\"Print\">\n",
      "        <Journal>\n",
      "          <ISSN IssnType=\"Print\">0008-5472</ISSN>\n",
      "          <JournalIssue CitedMedium=\"Print\">\n",
      "            <Volume>50</Volume>\n",
      "            <Issue>18</Issue>\n",
      "            <PubDate>\n",
      "              <Year>1990</Year>\n",
      "              <Month>Sep</Month>\n",
      "              <Day>15</Day>\n",
      "            </PubDate>\n",
      "          </JournalIssue>\n",
      "          <Title>Cancer research</Title>\n",
      "          <ISOAbbreviation>Cancer Res.</ISOAbbreviation>\n",
      "        </Journal>\n",
      "        <ArticleTitle>Differential growth-inhibitory effects of gallium on B-lymphocyte lines in high versus low iron concentrations.</ArticleTitle>\n",
      "        <Pagination>\n",
      "          <MedlinePgn>5727-30</MedlinePgn>\n",
      "        </Pagination>\n",
      "        <Abstract>\n",
      "          <AbstractText>The growth inhibitory effects of gallium on a murine and human B-cell line were studied using two different serum-free culture systems: (a) ferric citrate medium containing 500 microM iron and (b) transferrin medium containing 5 micrograms/ml of iron-saturated transferrin (0.125 microM iron). For the human cell line in ferric citrate medium, 50% growth inhibition achieved in the presence of transferrin-gallium represented a gallium concentration 80-fold lower than the concentration required when gallium nitrate was added. In the transferrin system, significantly higher transferrin-gallium concentrations were required to achieve the same inhibitory effects. Monoclonal antibody to the transferrin receptor significantly decreased the growth inhibiting effect of transferrin-gallium in the mouse ferric citrate system. Thus, under very different culture conditions, gallium and iron appear to compete via the transferrin-transferrin receptor pathway for cellular uptake. The growth inhibitory effects of gallium are markedly potentiated when the metal is taken up by functional transferrin receptors even in cells continuously cultured in transferrin-free medium.</AbstractText>\n",
      "        </Abstract>\n",
      "        <AuthorList CompleteYN=\"Y\">\n",
      "          <Author ValidYN=\"Y\">\n",
      "            <LastName>Kovar</LastName>\n",
      "            <ForeName>J</ForeName>\n",
      "            <Initials>J</Initials>\n",
      "            <AffiliationInfo>\n",
      "              <Affiliation>Department of Pediatrics, National Jewish Center for Immunology and Respiratory Medicine, Denver, Colorado 80206.</Affiliation>\n",
      "            </AffiliationInfo>\n",
      "          </Author>\n",
      "          <Author ValidYN=\"Y\">\n",
      "            <LastName>Seligman</LastName>\n",
      "            <ForeName>P</ForeName>\n",
      "            <Initials>P</Initials>\n",
      "          </Author>\n",
      "          <Author ValidYN=\"Y\">\n",
      "            <LastName>Gelfand</LastName>\n",
      "            <ForeName>E W</ForeName>\n",
      "            <Initials>EW</Initials>\n",
      "          </Author>\n",
      "        </AuthorList>\n",
      "        <Language>eng</Language>\n",
      "        <GrantList CompleteYN=\"Y\">\n",
      "          <Grant>\n",
      "            <GrantID>AI-26490</GrantID>\n",
      "            <Acronym>AI</Acronym>\n",
      "            <Agency>NIAID NIH HHS</Agency>\n",
      "            <Country>United States</Country>\n",
      "          </Grant>\n",
      "          <Grant>\n",
      "            <GrantID>AM-27039</GrantID>\n",
      "            <Acronym>AM</Acronym>\n",
      "            <Agency>NIADDK NIH HHS</Agency>\n",
      "            <Country>United States</Country>\n",
      "          </Grant>\n",
      "        </GrantList>\n",
      "        <PublicationTypeList>\n",
      "          <PublicationType UI=\"D016428\">Journal Article</PublicationType>\n",
      "          <PublicationType UI=\"D013485\">Research Support, Non-U.S. Gov't</PublicationType>\n",
      "          <PublicationType UI=\"D013487\">Research Support, U.S. Gov't, P.H.S.</PublicationType>\n",
      "        </PublicationTypeList>\n",
      "      </Article>\n",
      "      <MedlineJournalInfo>\n",
      "        <Country>United States</Country>\n",
      "        <MedlineTA>Cancer Res</MedlineTA>\n",
      "        <NlmUniqueID>2984705R</NlmUniqueID>\n",
      "        <ISSNLinking>0008-5472</ISSNLinking>\n",
      "      </MedlineJournalInfo>\n",
      "      <ChemicalList>\n",
      "        <Chemical>\n",
      "          <RegistryNumber>0</RegistryNumber>\n",
      "          <NameOfSubstance UI=\"D011990\">Receptors, Transferrin</NameOfSubstance>\n",
      "        </Chemical>\n",
      "        <Chemical>\n",
      "          <RegistryNumber>0</RegistryNumber>\n",
      "          <NameOfSubstance UI=\"D014168\">Transferrin</NameOfSubstance>\n",
      "        </Chemical>\n",
      "        <Chemical>\n",
      "          <RegistryNumber>CH46OC8YV4</RegistryNumber>\n",
      "          <NameOfSubstance UI=\"D005708\">Gallium</NameOfSubstance>\n",
      "        </Chemical>\n",
      "        <Chemical>\n",
      "          <RegistryNumber>E1UOL152H7</RegistryNumber>\n"
     ]
    }
   ],
   "source": [
    "%%sh\n",
    "zcat pubmed_mini/pubmed19n0080.xml.gz | head -n 100"
   ]
  },
  {
   "cell_type": "code",
   "execution_count": 3,
   "metadata": {},
   "outputs": [],
   "source": [
    "pubmed0080 = etree.parse(\"pubmed_mini/pubmed19n0080.xml.gz\")"
   ]
  },
  {
   "cell_type": "code",
   "execution_count": 4,
   "metadata": {},
   "outputs": [],
   "source": [
    "articles = pubmed0080.iterfind(\"PubmedArticle\")"
   ]
  },
  {
   "cell_type": "code",
   "execution_count": 5,
   "metadata": {},
   "outputs": [],
   "source": [
    "article = next(articles)"
   ]
  },
  {
   "cell_type": "code",
   "execution_count": 6,
   "metadata": {},
   "outputs": [
    {
     "name": "stdout",
     "output_type": "stream",
     "text": [
      "<PubmedArticle>\n",
      "    <MedlineCitation Status=\"MEDLINE\" Owner=\"NLM\">\n",
      "      <PMID Version=\"1\">2393846</PMID>\n",
      "      <DateCompleted>\n",
      "        <Year>1990</Year>\n",
      "        <Month>10</Month>\n",
      "        <Day>09</Day>\n",
      "      </DateCompleted>\n",
      "      <DateRevised>\n",
      "        <Year>2013</Year>\n",
      "        <Month>11</Month>\n",
      "        <Day>21</Day>\n",
      "      </DateRevised>\n",
      "      <Article PubModel=\"Print\">\n",
      "        <Journal>\n",
      "          <ISSN IssnType=\"Print\">0008-5472</ISSN>\n",
      "          <JournalIssue CitedMedium=\"Print\">\n",
      "            <Volume>50</Volume>\n",
      "            <Issue>18</Issue>\n",
      "            <PubDate>\n",
      "              <Year>1990</Year>\n",
      "              <Month>Sep</Month>\n",
      "              <Day>15</Day>\n",
      "            </PubDate>\n",
      "          </JournalIssue>\n",
      "          <Title>Cancer research</Title>\n",
      "          <ISOAbbreviation>Cancer Res.</ISOAbbreviation>\n",
      "        </Journal>\n",
      "        <ArticleTitle>Differential growth-inhibitory effects of gallium on B-lymphocyte lines in high versus low iron concentrations.</ArticleTitle>\n",
      "        <Pagination>\n",
      "          <MedlinePgn>5727-30</MedlinePgn>\n",
      "        </Pagination>\n",
      "        <Abstract>\n",
      "          <AbstractText>The growth inhibitory effects of gallium on a murine and human B-cell line were studied using two different serum-free culture systems: (a) ferric citrate medium containing 500 microM iron and (b) transferrin medium containing 5 micrograms/ml of iron-saturated transferrin (0.125 microM iron). For the human cell line in ferric citrate medium, 50% growth inhibition achieved in the presence of transferrin-gallium represented a gallium concentration 80-fold lower than the concentration required when gallium nitrate was added. In the transferrin system, significantly higher transferrin-gallium concentrations were required to achieve the same inhibitory effects. Monoclonal antibody to the transferrin receptor significantly decreased the growth inhibiting effect of transferrin-gallium in the mouse ferric citrate system. Thus, under very different culture conditions, gallium and iron appear to compete via the transferrin-transferrin receptor pathway for cellular uptake. The growth inhibitory effects of gallium are markedly potentiated when the metal is taken up by functional transferrin receptors even in cells continuously cultured in transferrin-free medium.</AbstractText>\n",
      "        </Abstract>\n",
      "        <AuthorList CompleteYN=\"Y\">\n",
      "          <Author ValidYN=\"Y\">\n",
      "            <LastName>Kovar</LastName>\n",
      "            <ForeName>J</ForeName>\n",
      "            <Initials>J</Initials>\n",
      "            <AffiliationInfo>\n",
      "              <Affiliation>Department of Pediatrics, National Jewish Center for Immunology and Respiratory Medicine, Denver, Colorado 80206.</Affiliation>\n",
      "            </AffiliationInfo>\n",
      "          </Author>\n",
      "          <Author ValidYN=\"Y\">\n",
      "            <LastName>Seligman</LastName>\n",
      "            <ForeName>P</ForeName>\n",
      "            <Initials>P</Initials>\n",
      "          </Author>\n",
      "          <Author ValidYN=\"Y\">\n",
      "            <LastName>Gelfand</LastName>\n",
      "            <ForeName>E W</ForeName>\n",
      "            <Initials>EW</Initials>\n",
      "          </Author>\n",
      "        </AuthorList>\n",
      "        <Language>eng</Language>\n",
      "        <GrantList CompleteYN=\"Y\">\n",
      "          <Grant>\n",
      "            <GrantID>AI-26490</GrantID>\n",
      "            <Acronym>AI</Acronym>\n",
      "            <Agency>NIAID NIH HHS</Agency>\n",
      "            <Country>United States</Country>\n",
      "          </Grant>\n",
      "          <Grant>\n",
      "            <GrantID>AM-27039</GrantID>\n",
      "            <Acronym>AM</Acronym>\n",
      "            <Agency>NIADDK NIH HHS</Agency>\n",
      "            <Country>United States</Country>\n",
      "          </Grant>\n",
      "        </GrantList>\n",
      "        <PublicationTypeList>\n",
      "          <PublicationType UI=\"D016428\">Journal Article</PublicationType>\n",
      "          <PublicationType UI=\"D013485\">Research Support, Non-U.S. Gov't</PublicationType>\n",
      "          <PublicationType UI=\"D013487\">Research Support, U.S. Gov't, P.H.S.</PublicationType>\n",
      "        </PublicationTypeList>\n",
      "      </Article>\n",
      "      <MedlineJournalInfo>\n",
      "        <Country>United States</Country>\n",
      "        <MedlineTA>Cancer Res</MedlineTA>\n",
      "        <NlmUniqueID>2984705R</NlmUniqueID>\n",
      "        <ISSNLinking>0008-5472</ISSNLinking>\n",
      "      </MedlineJournalInfo>\n",
      "      <ChemicalList>\n",
      "        <Chemical>\n",
      "          <RegistryNumber>0</RegistryNumber>\n",
      "          <NameOfSubstance UI=\"D011990\">Receptors, Transferrin</NameOfSubstance>\n",
      "        </Chemical>\n",
      "        <Chemical>\n",
      "          <RegistryNumber>0</RegistryNumber>\n",
      "          <NameOfSubstance UI=\"D014168\">Transferrin</NameOfSubstance>\n",
      "        </Chemical>\n",
      "        <Chemical>\n",
      "          <RegistryNumber>CH46OC8YV4</RegistryNumber>\n",
      "          <NameOfSubstance UI=\"D005708\">Gallium</NameOfSubstance>\n",
      "        </Chemical>\n",
      "        <Chemical>\n",
      "          <RegistryNumber>E1UOL152H7</RegistryNumber>\n",
      "          <NameOfSubstance UI=\"D007501\">Iron</NameOfSubstance>\n",
      "        </Chemical>\n",
      "      </ChemicalList>\n",
      "      <CitationSubset>IM</CitationSubset>\n",
      "      <MeshHeadingList>\n",
      "        <MeshHeading>\n",
      "          <DescriptorName UI=\"D000818\" MajorTopicYN=\"N\">Animals</DescriptorName>\n",
      "        </MeshHeading>\n",
      "        <MeshHeading>\n",
      "          <DescriptorName UI=\"D001402\" MajorTopicYN=\"N\">B-Lymphocytes</DescriptorName>\n",
      "          <QualifierName UI=\"Q000187\" MajorTopicYN=\"Y\">drug effects</QualifierName>\n",
      "        </MeshHeading>\n",
      "        <MeshHeading>\n",
      "          <DescriptorName UI=\"D002455\" MajorTopicYN=\"N\">Cell Division</DescriptorName>\n",
      "          <QualifierName UI=\"Q000187\" MajorTopicYN=\"N\">drug effects</QualifierName>\n",
      "        </MeshHeading>\n",
      "        <MeshHeading>\n",
      "          <DescriptorName UI=\"D002460\" MajorTopicYN=\"N\">Cell Line</DescriptorName>\n",
      "        </MeshHeading>\n",
      "        <MeshHeading>\n",
      "          <DescriptorName UI=\"D004305\" MajorTopicYN=\"N\">Dose-Response Relationship, Drug</DescriptorName>\n",
      "        </MeshHeading>\n",
      "        <MeshHeading>\n",
      "          <DescriptorName UI=\"D005708\" MajorTopicYN=\"N\">Gallium</DescriptorName>\n",
      "          <QualifierName UI=\"Q000378\" MajorTopicYN=\"N\">metabolism</QualifierName>\n",
      "          <QualifierName UI=\"Q000494\" MajorTopicYN=\"Y\">pharmacology</QualifierName>\n",
      "        </MeshHeading>\n",
      "        <MeshHeading>\n",
      "          <DescriptorName UI=\"D006801\" MajorTopicYN=\"N\">Humans</DescriptorName>\n",
      "        </MeshHeading>\n",
      "        <MeshHeading>\n",
      "          <DescriptorName UI=\"D007501\" MajorTopicYN=\"N\">Iron</DescriptorName>\n",
      "          <QualifierName UI=\"Q000378\" MajorTopicYN=\"N\">metabolism</QualifierName>\n",
      "          <QualifierName UI=\"Q000494\" MajorTopicYN=\"Y\">pharmacology</QualifierName>\n",
      "        </MeshHeading>\n",
      "        <MeshHeading>\n",
      "          <DescriptorName UI=\"D051379\" MajorTopicYN=\"N\">Mice</DescriptorName>\n",
      "        </MeshHeading>\n",
      "        <MeshHeading>\n",
      "          <DescriptorName UI=\"D011990\" MajorTopicYN=\"N\">Receptors, Transferrin</DescriptorName>\n",
      "          <QualifierName UI=\"Q000032\" MajorTopicYN=\"N\">analysis</QualifierName>\n",
      "          <QualifierName UI=\"Q000502\" MajorTopicYN=\"N\">physiology</QualifierName>\n",
      "        </MeshHeading>\n",
      "        <MeshHeading>\n",
      "          <DescriptorName UI=\"D014168\" MajorTopicYN=\"N\">Transferrin</DescriptorName>\n",
      "          <QualifierName UI=\"Q000378\" MajorTopicYN=\"N\">metabolism</QualifierName>\n",
      "        </MeshHeading>\n",
      "      </MeshHeadingList>\n",
      "    </MedlineCitation>\n",
      "    <PubmedData>\n",
      "      <History>\n",
      "        <PubMedPubDate PubStatus=\"pubmed\">\n",
      "          <Year>1990</Year>\n",
      "          <Month>9</Month>\n",
      "          <Day>15</Day>\n",
      "        </PubMedPubDate>\n",
      "        <PubMedPubDate PubStatus=\"medline\">\n",
      "          <Year>1990</Year>\n",
      "          <Month>9</Month>\n",
      "          <Day>15</Day>\n",
      "          <Hour>0</Hour>\n",
      "          <Minute>1</Minute>\n",
      "        </PubMedPubDate>\n",
      "        <PubMedPubDate PubStatus=\"entrez\">\n",
      "          <Year>1990</Year>\n",
      "          <Month>9</Month>\n",
      "          <Day>15</Day>\n",
      "          <Hour>0</Hour>\n",
      "          <Minute>0</Minute>\n",
      "        </PubMedPubDate>\n",
      "      </History>\n",
      "      <PublicationStatus>ppublish</PublicationStatus>\n",
      "      <ArticleIdList>\n",
      "        <ArticleId IdType=\"pubmed\">2393846</ArticleId>\n",
      "      </ArticleIdList>\n",
      "    </PubmedData>\n",
      "  </PubmedArticle>\n",
      "  \n"
     ]
    }
   ],
   "source": [
    "print(etree.tounicode(article))"
   ]
  },
  {
   "cell_type": "code",
   "execution_count": 7,
   "metadata": {},
   "outputs": [
    {
     "data": {
      "text/plain": [
       "'Differential growth-inhibitory effects of gallium on B-lymphocyte lines in high versus low iron concentrations.'"
      ]
     },
     "execution_count": 7,
     "metadata": {},
     "output_type": "execute_result"
    }
   ],
   "source": [
    "article.find(\".//Article/ArticleTitle\").text"
   ]
  },
  {
   "cell_type": "code",
   "execution_count": 8,
   "metadata": {},
   "outputs": [
    {
     "data": {
      "text/plain": [
       "'2393846'"
      ]
     },
     "execution_count": 8,
     "metadata": {},
     "output_type": "execute_result"
    }
   ],
   "source": [
    "article.find(\".//PMID\").text"
   ]
  },
  {
   "cell_type": "code",
   "execution_count": 9,
   "metadata": {},
   "outputs": [],
   "source": [
    "abstract = article.find(\".//Abstract\")"
   ]
  },
  {
   "cell_type": "code",
   "execution_count": 10,
   "metadata": {},
   "outputs": [
    {
     "name": "stdout",
     "output_type": "stream",
     "text": [
      "<Abstract>\n",
      "          <AbstractText>The growth inhibitory effects of gallium on a murine and human B-cell line were studied using two different serum-free culture systems: (a) ferric citrate medium containing 500 microM iron and (b) transferrin medium containing 5 micrograms/ml of iron-saturated transferrin (0.125 microM iron). For the human cell line in ferric citrate medium, 50% growth inhibition achieved in the presence of transferrin-gallium represented a gallium concentration 80-fold lower than the concentration required when gallium nitrate was added. In the transferrin system, significantly higher transferrin-gallium concentrations were required to achieve the same inhibitory effects. Monoclonal antibody to the transferrin receptor significantly decreased the growth inhibiting effect of transferrin-gallium in the mouse ferric citrate system. Thus, under very different culture conditions, gallium and iron appear to compete via the transferrin-transferrin receptor pathway for cellular uptake. The growth inhibitory effects of gallium are markedly potentiated when the metal is taken up by functional transferrin receptors even in cells continuously cultured in transferrin-free medium.</AbstractText>\n",
      "        </Abstract>\n",
      "        \n"
     ]
    }
   ],
   "source": [
    "print(etree.tounicode(abstract))"
   ]
  },
  {
   "cell_type": "code",
   "execution_count": 11,
   "metadata": {},
   "outputs": [],
   "source": [
    "descedants = list(abstract.iterdescendants())"
   ]
  },
  {
   "cell_type": "code",
   "execution_count": 12,
   "metadata": {},
   "outputs": [
    {
     "data": {
      "text/plain": [
       "[<Element AbstractText at 0x7faebfe52908>]"
      ]
     },
     "execution_count": 12,
     "metadata": {},
     "output_type": "execute_result"
    }
   ],
   "source": [
    "descedants"
   ]
  },
  {
   "cell_type": "code",
   "execution_count": 13,
   "metadata": {},
   "outputs": [
    {
     "name": "stdout",
     "output_type": "stream",
     "text": [
      "The growth inhibitory effects of gallium on a murine and human B-cell line were studied using two different serum-free culture systems: (a) ferric citrate medium containing 500 microM iron and (b) transferrin medium containing 5 micrograms/ml of iron-saturated transferrin (0.125 microM iron). For the human cell line in ferric citrate medium, 50% growth inhibition achieved in the presence of transferrin-gallium represented a gallium concentration 80-fold lower than the concentration required when gallium nitrate was added. In the transferrin system, significantly higher transferrin-gallium concentrations were required to achieve the same inhibitory effects. Monoclonal antibody to the transferrin receptor significantly decreased the growth inhibiting effect of transferrin-gallium in the mouse ferric citrate system. Thus, under very different culture conditions, gallium and iron appear to compete via the transferrin-transferrin receptor pathway for cellular uptake. The growth inhibitory effects of gallium are markedly potentiated when the metal is taken up by functional transferrin receptors even in cells continuously cultured in transferrin-free medium.\n"
     ]
    }
   ],
   "source": [
    "abstract_text = \"\".join(node.text for node in descedants if node.text is not None).strip()\n",
    "print(abstract_text)"
   ]
  },
  {
   "cell_type": "markdown",
   "metadata": {},
   "source": [
    "## Processing prototyping"
   ]
  },
  {
   "cell_type": "markdown",
   "metadata": {},
   "source": [
    "Test the regex at https://www.regex101.com"
   ]
  },
  {
   "cell_type": "code",
   "execution_count": 14,
   "metadata": {},
   "outputs": [
    {
     "name": "stdout",
     "output_type": "stream",
     "text": [
      "SENT: The growth inhibitory effects of gallium on a murine and human B-cell line were studied using two different serum-free culture systems: (a) ferric citrate medium containing 500 microM iron and (b) transferrin medium containing 5 micrograms/ml of iron-saturated transferrin (0.125 microM iron).\n",
      "SENT: For the human cell line in ferric citrate medium, 50% growth inhibition achieved in the presence of transferrin-gallium represented a gallium concentration 80-fold lower than the concentration required when gallium nitrate was added.\n",
      "SENT: In the transferrin system, significantly higher transferrin-gallium concentrations were required to achieve the same inhibitory effects.\n",
      "SENT: Monoclonal antibody to the transferrin receptor significantly decreased the growth inhibiting effect of transferrin-gallium in the mouse ferric citrate system.\n",
      "SENT: Thus, under very different culture conditions, gallium and iron appear to compete via the transferrin-transferrin receptor pathway for cellular uptake.\n",
      "SENT: The growth inhibitory effects of gallium are markedly potentiated when the metal is taken up by functional transferrin receptors even in cells continuously cultured in transferrin-free medium.\n"
     ]
    }
   ],
   "source": [
    "last = 0\n",
    "for m in re.finditer(r\"(?>[\\.\\?\\!])(?:\\s*(?=\\p{Lu})|$)\", abstract_text):\n",
    "    print(\"SENT:\", abstract_text[last:m.start()+1])\n",
    "    last = m.end()"
   ]
  },
  {
   "cell_type": "code",
   "execution_count": 15,
   "metadata": {},
   "outputs": [],
   "source": [
    "set_large_screen()"
   ]
  },
  {
   "cell_type": "code",
   "execution_count": 16,
   "metadata": {},
   "outputs": [],
   "source": [
    "doc = Document()"
   ]
  },
  {
   "cell_type": "code",
   "execution_count": 17,
   "metadata": {},
   "outputs": [],
   "source": [
    "doc.props[\"pmid\"] = article.find(\".//PMID\").text"
   ]
  },
  {
   "cell_type": "code",
   "execution_count": 18,
   "metadata": {},
   "outputs": [],
   "source": [
    "doc.maintext = abstract_text"
   ]
  },
  {
   "cell_type": "code",
   "execution_count": 19,
   "metadata": {},
   "outputs": [
    {
     "data": {
      "text/plain": [
       "Document(0 layers, 1 texts, pmid=2393846)"
      ]
     },
     "execution_count": 19,
     "metadata": {},
     "output_type": "execute_result"
    }
   ],
   "source": [
    "doc"
   ]
  },
  {
   "cell_type": "code",
   "execution_count": 20,
   "metadata": {},
   "outputs": [
    {
     "data": {
      "text/html": [
       "<table><thead><tr><th colspan='3' style='text-align:center'><em>Layer &#x27;sentence&#x27; with 0 nodes.</em></th></tr><tr><th style='text-align:left'>#</th><th style='text-align:left'>text</th><th style='text-align:left'>tokens</th></tr></thead><tbody></tbody></table>"
      ],
      "text/plain": [
       "Layer(sentence, N=0)"
      ]
     },
     "execution_count": 20,
     "metadata": {},
     "output_type": "execute_result"
    }
   ],
   "source": [
    "doc.add_layer(\"token\", text=T.span(), partOfSpeech=T.string, namedEntity=T.string(\"O\"), indx=T.int32)\n",
    "doc.add_layer(\"sentence\", text=T.span(), tokens=T.nodespan(\"token\"))"
   ]
  },
  {
   "cell_type": "code",
   "execution_count": 21,
   "metadata": {},
   "outputs": [],
   "source": [
    "sentence_layer = doc[\"sentence\"]\n",
    "token_layer = doc[\"token\"]\n",
    "last = 0\n",
    "for m in re.finditer(r\"(?>[\\.\\?\\!])(?:\\s*(?=\\p{Lu})|$)\", abstract_text):\n",
    "    tokens = []\n",
    "    text = doc.maintext[last:m.start()+1]\n",
    "    offset = last\n",
    "    for tok_i, tok_m in enumerate(re.finditer(r\"\\p{L}+|\\p{N}+(\\.\\p{N}+)?|[\\-\\/%():,\\.;+&#=!?@_<>]\", str(text))):\n",
    "        tokens.append(token_layer.add(indx=tok_i+1, text=doc.maintext[tok_m.start()+offset:tok_m.end()+offset]))\n",
    "    \n",
    "    if len(tokens) > 0:\n",
    "        sentence = sentence_layer.add(text=text)\n",
    "        sentence[\"tokens\"] = NodeSpan(tokens[0], tokens[-1])\n",
    "\n",
    "    last = m.end()"
   ]
  },
  {
   "cell_type": "code",
   "execution_count": 22,
   "metadata": {},
   "outputs": [
    {
     "data": {
      "text/html": [
       "<table><thead><tr><th colspan='3' style='text-align:center'><em>Layer &#x27;sentence&#x27; with 6 nodes.</em></th></tr><tr><th style='text-align:left'>#</th><th style='text-align:left'>text</th><th style='text-align:left'>tokens</th></tr></thead><tbody><tr><td style='text-align:left'>0</td><td style='text-align:left'>span(main[0:293]) = &#x27;The growth inhibitory effects of gallium on a murine and human B-cell line w ... transferrin medium containing 5 micrograms/ml of iron-saturated transferrin (0.125 microM iron).&#x27;</td><td style='text-align:left'>NodeSpan[token: 0 to incl. 57] = &#x27;The growth inhibitory effects of gallium on a murine and human  ... transferrin medium containing 5 micrograms/ml of iron-saturated transferrin (0.125 microM iron).&#x27;</td></tr><tr><td style='text-align:left'>1</td><td style='text-align:left'>span(main[294:527]) = &#x27;For the human cell line in ferric citrate medium, 50% growth inhibition ac ... lium concentration 80-fold lower than the concentration required when gallium nitrate was added.&#x27;</td><td style='text-align:left'>NodeSpan[token: 58 to incl. 97] = &#x27;For the human cell line in ferric citrate medium, 50% growth i ... lium concentration 80-fold lower than the concentration required when gallium nitrate was added.&#x27;</td></tr><tr><td style='text-align:left'>2</td><td style='text-align:left'>span(main[528:664]) = &#x27;In the transferrin system, significantly higher transferrin-gallium concentrations were required to achieve the same inhibitory effects.&#x27;</td><td style='text-align:left'>NodeSpan[token: 98 to incl. 117] = &#x27;In the transferrin system, significantly higher transferrin-gallium concentrations were required to achieve the same inhibitory effects.&#x27;</td></tr><tr><td style='text-align:left'>3</td><td style='text-align:left'>span(main[665:824]) = &#x27;Monoclonal antibody to the transferrin receptor significantly decreased the growth inhibiting effect of transferrin-gallium in the mouse ferric citrate system.&#x27;</td><td style='text-align:left'>NodeSpan[token: 118 to incl. 140] = &#x27;Monoclonal antibody to the transferrin receptor significantl ... ecreased the growth inhibiting effect of transferrin-gallium in the mouse ferric citrate system.&#x27;</td></tr><tr><td style='text-align:left'>4</td><td style='text-align:left'>span(main[825:976]) = &#x27;Thus, under very different culture conditions, gallium and iron appear to compete via the transferrin-transferrin receptor pathway for cellular uptake.&#x27;</td><td style='text-align:left'>NodeSpan[token: 141 to incl. 165] = &#x27;Thus, under very different culture conditions, gallium and iron appear to compete via the transferrin-transferrin receptor pathway for cellular uptake.&#x27;</td></tr><tr><td style='text-align:left'>5</td><td style='text-align:left'>span(main[977:1169]) = &#x27;The growth inhibitory effects of gallium are markedly potentiated when th ... functional transferrin receptors even in cells continuously cultured in transferrin-free medium.&#x27;</td><td style='text-align:left'>NodeSpan[token: 166 to incl. 195] = &#x27;The growth inhibitory effects of gallium are markedly potent ... functional transferrin receptors even in cells continuously cultured in transferrin-free medium.&#x27;</td></tr></tbody></table>"
      ],
      "text/plain": [
       "Layer(sentence, N=6)"
      ]
     },
     "execution_count": 22,
     "metadata": {},
     "output_type": "execute_result"
    }
   ],
   "source": [
    "doc[\"sentence\"]"
   ]
  },
  {
   "cell_type": "code",
   "execution_count": 23,
   "metadata": {},
   "outputs": [
    {
     "data": {
      "text/html": [
       "<table><thead><tr><th colspan='5' style='text-align:center'><em>Node span with N=58 elements</em></th></tr><tr><th style='text-align:left'>#</th><th style='text-align:left'>indx</th><th style='text-align:left'>namedEntity</th><th style='text-align:left'>partOfSpeech</th><th style='text-align:left'>text</th></tr></thead><tbody><tr><td style='text-align:left'>0</td><td style='text-align:left'>1</td><td style='text-align:left'>&#x27;O&#x27;</td><td style='text-align:left'>&#x27;&#x27;</td><td style='text-align:left'>span(main[0:3]) = &#x27;The&#x27;</td></tr><tr><td style='text-align:left'>1</td><td style='text-align:left'>2</td><td style='text-align:left'>&#x27;O&#x27;</td><td style='text-align:left'>&#x27;&#x27;</td><td style='text-align:left'>span(main[4:10]) = &#x27;growth&#x27;</td></tr><tr><td style='text-align:left'>2</td><td style='text-align:left'>3</td><td style='text-align:left'>&#x27;O&#x27;</td><td style='text-align:left'>&#x27;&#x27;</td><td style='text-align:left'>span(main[11:21]) = &#x27;inhibitory&#x27;</td></tr><tr><td style='text-align:left'>3</td><td style='text-align:left'>4</td><td style='text-align:left'>&#x27;O&#x27;</td><td style='text-align:left'>&#x27;&#x27;</td><td style='text-align:left'>span(main[22:29]) = &#x27;effects&#x27;</td></tr><tr><td style='text-align:left'>4</td><td style='text-align:left'>5</td><td style='text-align:left'>&#x27;O&#x27;</td><td style='text-align:left'>&#x27;&#x27;</td><td style='text-align:left'>span(main[30:32]) = &#x27;of&#x27;</td></tr><tr><td style='text-align:left'>5</td><td style='text-align:left'>6</td><td style='text-align:left'>&#x27;O&#x27;</td><td style='text-align:left'>&#x27;&#x27;</td><td style='text-align:left'>span(main[33:40]) = &#x27;gallium&#x27;</td></tr><tr><td style='text-align:left'>6</td><td style='text-align:left'>7</td><td style='text-align:left'>&#x27;O&#x27;</td><td style='text-align:left'>&#x27;&#x27;</td><td style='text-align:left'>span(main[41:43]) = &#x27;on&#x27;</td></tr><tr><td style='text-align:left'>7</td><td style='text-align:left'>8</td><td style='text-align:left'>&#x27;O&#x27;</td><td style='text-align:left'>&#x27;&#x27;</td><td style='text-align:left'>span(main[44:45]) = &#x27;a&#x27;</td></tr><tr><td style='text-align:left'>8</td><td style='text-align:left'>9</td><td style='text-align:left'>&#x27;O&#x27;</td><td style='text-align:left'>&#x27;&#x27;</td><td style='text-align:left'>span(main[46:52]) = &#x27;murine&#x27;</td></tr><tr><td style='text-align:left'>9</td><td style='text-align:left'>10</td><td style='text-align:left'>&#x27;O&#x27;</td><td style='text-align:left'>&#x27;&#x27;</td><td style='text-align:left'>span(main[53:56]) = &#x27;and&#x27;</td></tr><tr><td style='text-align:left'>10</td><td style='text-align:left'>11</td><td style='text-align:left'>&#x27;O&#x27;</td><td style='text-align:left'>&#x27;&#x27;</td><td style='text-align:left'>span(main[57:62]) = &#x27;human&#x27;</td></tr><tr><td style='text-align:left'>11</td><td style='text-align:left'>12</td><td style='text-align:left'>&#x27;O&#x27;</td><td style='text-align:left'>&#x27;&#x27;</td><td style='text-align:left'>span(main[63:64]) = &#x27;B&#x27;</td></tr><tr><td style='text-align:left'>12</td><td style='text-align:left'>13</td><td style='text-align:left'>&#x27;O&#x27;</td><td style='text-align:left'>&#x27;&#x27;</td><td style='text-align:left'>span(main[64:65]) = &#x27;-&#x27;</td></tr><tr><td style='text-align:left'>13</td><td style='text-align:left'>14</td><td style='text-align:left'>&#x27;O&#x27;</td><td style='text-align:left'>&#x27;&#x27;</td><td style='text-align:left'>span(main[65:69]) = &#x27;cell&#x27;</td></tr><tr><td style='text-align:left'>14</td><td style='text-align:left'>15</td><td style='text-align:left'>&#x27;O&#x27;</td><td style='text-align:left'>&#x27;&#x27;</td><td style='text-align:left'>span(main[70:74]) = &#x27;line&#x27;</td></tr><tr><td style='text-align:left'>15</td><td style='text-align:left'>16</td><td style='text-align:left'>&#x27;O&#x27;</td><td style='text-align:left'>&#x27;&#x27;</td><td style='text-align:left'>span(main[75:79]) = &#x27;were&#x27;</td></tr><tr><td style='text-align:left'>16</td><td style='text-align:left'>17</td><td style='text-align:left'>&#x27;O&#x27;</td><td style='text-align:left'>&#x27;&#x27;</td><td style='text-align:left'>span(main[80:87]) = &#x27;studied&#x27;</td></tr><tr><td style='text-align:left'>17</td><td style='text-align:left'>18</td><td style='text-align:left'>&#x27;O&#x27;</td><td style='text-align:left'>&#x27;&#x27;</td><td style='text-align:left'>span(main[88:93]) = &#x27;using&#x27;</td></tr><tr><td style='text-align:left'>18</td><td style='text-align:left'>19</td><td style='text-align:left'>&#x27;O&#x27;</td><td style='text-align:left'>&#x27;&#x27;</td><td style='text-align:left'>span(main[94:97]) = &#x27;two&#x27;</td></tr><tr><td style='text-align:left'>19</td><td style='text-align:left'>20</td><td style='text-align:left'>&#x27;O&#x27;</td><td style='text-align:left'>&#x27;&#x27;</td><td style='text-align:left'>span(main[98:107]) = &#x27;different&#x27;</td></tr><tr><td style='text-align:left'>20</td><td style='text-align:left'>21</td><td style='text-align:left'>&#x27;O&#x27;</td><td style='text-align:left'>&#x27;&#x27;</td><td style='text-align:left'>span(main[108:113]) = &#x27;serum&#x27;</td></tr><tr><td style='text-align:left'>21</td><td style='text-align:left'>22</td><td style='text-align:left'>&#x27;O&#x27;</td><td style='text-align:left'>&#x27;&#x27;</td><td style='text-align:left'>span(main[113:114]) = &#x27;-&#x27;</td></tr><tr><td style='text-align:left'>22</td><td style='text-align:left'>23</td><td style='text-align:left'>&#x27;O&#x27;</td><td style='text-align:left'>&#x27;&#x27;</td><td style='text-align:left'>span(main[114:118]) = &#x27;free&#x27;</td></tr><tr><td style='text-align:left'>23</td><td style='text-align:left'>24</td><td style='text-align:left'>&#x27;O&#x27;</td><td style='text-align:left'>&#x27;&#x27;</td><td style='text-align:left'>span(main[119:126]) = &#x27;culture&#x27;</td></tr><tr><td style='text-align:left'>24</td><td style='text-align:left'>25</td><td style='text-align:left'>&#x27;O&#x27;</td><td style='text-align:left'>&#x27;&#x27;</td><td style='text-align:left'>span(main[127:134]) = &#x27;systems&#x27;</td></tr><tr><td style='text-align:left'>25</td><td style='text-align:left'>26</td><td style='text-align:left'>&#x27;O&#x27;</td><td style='text-align:left'>&#x27;&#x27;</td><td style='text-align:left'>span(main[134:135]) = &#x27;:&#x27;</td></tr><tr><td style='text-align:left'>26</td><td style='text-align:left'>27</td><td style='text-align:left'>&#x27;O&#x27;</td><td style='text-align:left'>&#x27;&#x27;</td><td style='text-align:left'>span(main[136:137]) = &#x27;(&#x27;</td></tr><tr><td style='text-align:left'>27</td><td style='text-align:left'>28</td><td style='text-align:left'>&#x27;O&#x27;</td><td style='text-align:left'>&#x27;&#x27;</td><td style='text-align:left'>span(main[137:138]) = &#x27;a&#x27;</td></tr><tr><td style='text-align:left'>28</td><td style='text-align:left'>29</td><td style='text-align:left'>&#x27;O&#x27;</td><td style='text-align:left'>&#x27;&#x27;</td><td style='text-align:left'>span(main[138:139]) = &#x27;)&#x27;</td></tr><tr><td style='text-align:left'>29</td><td style='text-align:left'>30</td><td style='text-align:left'>&#x27;O&#x27;</td><td style='text-align:left'>&#x27;&#x27;</td><td style='text-align:left'>span(main[140:146]) = &#x27;ferric&#x27;</td></tr><tr><td style='text-align:left'>30</td><td style='text-align:left'>31</td><td style='text-align:left'>&#x27;O&#x27;</td><td style='text-align:left'>&#x27;&#x27;</td><td style='text-align:left'>span(main[147:154]) = &#x27;citrate&#x27;</td></tr><tr><td style='text-align:left'>31</td><td style='text-align:left'>32</td><td style='text-align:left'>&#x27;O&#x27;</td><td style='text-align:left'>&#x27;&#x27;</td><td style='text-align:left'>span(main[155:161]) = &#x27;medium&#x27;</td></tr><tr><td style='text-align:left'>32</td><td style='text-align:left'>33</td><td style='text-align:left'>&#x27;O&#x27;</td><td style='text-align:left'>&#x27;&#x27;</td><td style='text-align:left'>span(main[162:172]) = &#x27;containing&#x27;</td></tr><tr><td style='text-align:left'>33</td><td style='text-align:left'>34</td><td style='text-align:left'>&#x27;O&#x27;</td><td style='text-align:left'>&#x27;&#x27;</td><td style='text-align:left'>span(main[173:176]) = &#x27;500&#x27;</td></tr><tr><td style='text-align:left'>34</td><td style='text-align:left'>35</td><td style='text-align:left'>&#x27;O&#x27;</td><td style='text-align:left'>&#x27;&#x27;</td><td style='text-align:left'>span(main[177:183]) = &#x27;microM&#x27;</td></tr><tr><td style='text-align:left'>35</td><td style='text-align:left'>36</td><td style='text-align:left'>&#x27;O&#x27;</td><td style='text-align:left'>&#x27;&#x27;</td><td style='text-align:left'>span(main[184:188]) = &#x27;iron&#x27;</td></tr><tr><td style='text-align:left'>36</td><td style='text-align:left'>37</td><td style='text-align:left'>&#x27;O&#x27;</td><td style='text-align:left'>&#x27;&#x27;</td><td style='text-align:left'>span(main[189:192]) = &#x27;and&#x27;</td></tr><tr><td style='text-align:left'>37</td><td style='text-align:left'>38</td><td style='text-align:left'>&#x27;O&#x27;</td><td style='text-align:left'>&#x27;&#x27;</td><td style='text-align:left'>span(main[193:194]) = &#x27;(&#x27;</td></tr><tr><td style='text-align:left'>38</td><td style='text-align:left'>39</td><td style='text-align:left'>&#x27;O&#x27;</td><td style='text-align:left'>&#x27;&#x27;</td><td style='text-align:left'>span(main[194:195]) = &#x27;b&#x27;</td></tr><tr><td style='text-align:left'>39</td><td style='text-align:left'>40</td><td style='text-align:left'>&#x27;O&#x27;</td><td style='text-align:left'>&#x27;&#x27;</td><td style='text-align:left'>span(main[195:196]) = &#x27;)&#x27;</td></tr><tr><td style='text-align:left'>40</td><td style='text-align:left'>41</td><td style='text-align:left'>&#x27;O&#x27;</td><td style='text-align:left'>&#x27;&#x27;</td><td style='text-align:left'>span(main[197:208]) = &#x27;transferrin&#x27;</td></tr><tr><td style='text-align:left'>41</td><td style='text-align:left'>42</td><td style='text-align:left'>&#x27;O&#x27;</td><td style='text-align:left'>&#x27;&#x27;</td><td style='text-align:left'>span(main[209:215]) = &#x27;medium&#x27;</td></tr><tr><td style='text-align:left'>42</td><td style='text-align:left'>43</td><td style='text-align:left'>&#x27;O&#x27;</td><td style='text-align:left'>&#x27;&#x27;</td><td style='text-align:left'>span(main[216:226]) = &#x27;containing&#x27;</td></tr><tr><td style='text-align:left'>43</td><td style='text-align:left'>44</td><td style='text-align:left'>&#x27;O&#x27;</td><td style='text-align:left'>&#x27;&#x27;</td><td style='text-align:left'>span(main[227:228]) = &#x27;5&#x27;</td></tr><tr><td style='text-align:left'>44</td><td style='text-align:left'>45</td><td style='text-align:left'>&#x27;O&#x27;</td><td style='text-align:left'>&#x27;&#x27;</td><td style='text-align:left'>span(main[229:239]) = &#x27;micrograms&#x27;</td></tr><tr><td style='text-align:left'>45</td><td style='text-align:left'>46</td><td style='text-align:left'>&#x27;O&#x27;</td><td style='text-align:left'>&#x27;&#x27;</td><td style='text-align:left'>span(main[239:240]) = &#x27;/&#x27;</td></tr><tr><td style='text-align:left'>46</td><td style='text-align:left'>47</td><td style='text-align:left'>&#x27;O&#x27;</td><td style='text-align:left'>&#x27;&#x27;</td><td style='text-align:left'>span(main[240:242]) = &#x27;ml&#x27;</td></tr><tr><td style='text-align:left'>47</td><td style='text-align:left'>48</td><td style='text-align:left'>&#x27;O&#x27;</td><td style='text-align:left'>&#x27;&#x27;</td><td style='text-align:left'>span(main[243:245]) = &#x27;of&#x27;</td></tr><tr><td style='text-align:left'>48</td><td style='text-align:left'>49</td><td style='text-align:left'>&#x27;O&#x27;</td><td style='text-align:left'>&#x27;&#x27;</td><td style='text-align:left'>span(main[246:250]) = &#x27;iron&#x27;</td></tr><tr><td style='text-align:left'>49</td><td style='text-align:left'>50</td><td style='text-align:left'>&#x27;O&#x27;</td><td style='text-align:left'>&#x27;&#x27;</td><td style='text-align:left'>span(main[250:251]) = &#x27;-&#x27;</td></tr><tr><td style='text-align:left'>50</td><td style='text-align:left'>51</td><td style='text-align:left'>&#x27;O&#x27;</td><td style='text-align:left'>&#x27;&#x27;</td><td style='text-align:left'>span(main[251:260]) = &#x27;saturated&#x27;</td></tr><tr><td style='text-align:left'>51</td><td style='text-align:left'>52</td><td style='text-align:left'>&#x27;O&#x27;</td><td style='text-align:left'>&#x27;&#x27;</td><td style='text-align:left'>span(main[261:272]) = &#x27;transferrin&#x27;</td></tr><tr><td style='text-align:left'>52</td><td style='text-align:left'>53</td><td style='text-align:left'>&#x27;O&#x27;</td><td style='text-align:left'>&#x27;&#x27;</td><td style='text-align:left'>span(main[273:274]) = &#x27;(&#x27;</td></tr><tr><td style='text-align:left'>53</td><td style='text-align:left'>54</td><td style='text-align:left'>&#x27;O&#x27;</td><td style='text-align:left'>&#x27;&#x27;</td><td style='text-align:left'>span(main[274:279]) = &#x27;0.125&#x27;</td></tr><tr><td style='text-align:left'>54</td><td style='text-align:left'>55</td><td style='text-align:left'>&#x27;O&#x27;</td><td style='text-align:left'>&#x27;&#x27;</td><td style='text-align:left'>span(main[280:286]) = &#x27;microM&#x27;</td></tr><tr><td style='text-align:left'>55</td><td style='text-align:left'>56</td><td style='text-align:left'>&#x27;O&#x27;</td><td style='text-align:left'>&#x27;&#x27;</td><td style='text-align:left'>span(main[287:291]) = &#x27;iron&#x27;</td></tr><tr><td style='text-align:left'>56</td><td style='text-align:left'>57</td><td style='text-align:left'>&#x27;O&#x27;</td><td style='text-align:left'>&#x27;&#x27;</td><td style='text-align:left'>span(main[291:292]) = &#x27;)&#x27;</td></tr><tr><td style='text-align:left'>57</td><td style='text-align:left'>58</td><td style='text-align:left'>&#x27;O&#x27;</td><td style='text-align:left'>&#x27;&#x27;</td><td style='text-align:left'>span(main[292:293]) = &#x27;.&#x27;</td></tr></tbody></table>"
      ],
      "text/plain": [
       "NodeSpan[token: 0 to incl. 57] = 'The growth inhibitory effects of gallium on a murine and human B-cell line were studied using two different serum-free culture systems: (a) ferric citrate medium containing 500 microM iron and (b) transferrin medium containing 5 micrograms/ml of iron-saturated transferrin (0.125 microM iron).'"
      ]
     },
     "execution_count": 23,
     "metadata": {},
     "output_type": "execute_result"
    }
   ],
   "source": [
    "doc[\"sentence\"][\"tokens\"][0]"
   ]
  },
  {
   "cell_type": "code",
   "execution_count": 24,
   "metadata": {},
   "outputs": [
    {
     "data": {
      "text/html": [
       "<table><thead><tr><th colspan='5' style='text-align:center'><em>Query with 5 nodes.</em></th></tr><tr><th style='text-align:left'>#</th><th style='text-align:left'>indx</th><th style='text-align:left'>namedEntity</th><th style='text-align:left'>partOfSpeech</th><th style='text-align:left'>text</th></tr></thead><tbody><tr><td style='text-align:left'>0</td><td style='text-align:left'>5</td><td style='text-align:left'>&#x27;O&#x27;</td><td style='text-align:left'>&#x27;&#x27;</td><td style='text-align:left'>span(main[30:32]) = &#x27;of&#x27;</td></tr><tr><td style='text-align:left'>1</td><td style='text-align:left'>48</td><td style='text-align:left'>&#x27;O&#x27;</td><td style='text-align:left'>&#x27;&#x27;</td><td style='text-align:left'>span(main[243:245]) = &#x27;of&#x27;</td></tr><tr><td style='text-align:left'>2</td><td style='text-align:left'>19</td><td style='text-align:left'>&#x27;O&#x27;</td><td style='text-align:left'>&#x27;&#x27;</td><td style='text-align:left'>span(main[391:393]) = &#x27;of&#x27;</td></tr><tr><td style='text-align:left'>3</td><td style='text-align:left'>13</td><td style='text-align:left'>&#x27;O&#x27;</td><td style='text-align:left'>&#x27;&#x27;</td><td style='text-align:left'>span(main[766:768]) = &#x27;of&#x27;</td></tr><tr><td style='text-align:left'>4</td><td style='text-align:left'>5</td><td style='text-align:left'>&#x27;O&#x27;</td><td style='text-align:left'>&#x27;&#x27;</td><td style='text-align:left'>span(main[1007:1009]) = &#x27;of&#x27;</td></tr></tbody></table>"
      ],
      "text/plain": [
       "NodeCollectionQuery(collection=token, N=5)"
      ]
     },
     "execution_count": 24,
     "metadata": {},
     "output_type": "execute_result"
    }
   ],
   "source": [
    "doc[\"token\"][doc[\"token\"][\"text\"] == \"of\"]"
   ]
  },
  {
   "cell_type": "code",
   "execution_count": 25,
   "metadata": {},
   "outputs": [],
   "source": [
    "from docria.algorithm import group_by_span"
   ]
  },
  {
   "cell_type": "code",
   "execution_count": 26,
   "metadata": {},
   "outputs": [
    {
     "data": {
      "text/plain": [
       "\u001b[0;31mSignature:\u001b[0m\n",
       "\u001b[0mgroup_by_span\u001b[0m\u001b[0;34m(\u001b[0m\u001b[0;34m\u001b[0m\n",
       "\u001b[0;34m\u001b[0m    \u001b[0;34m[\u001b[0m\u001b[0;34m'group_nodes:List[docria.model.Node]'\u001b[0m\u001b[0;34m,\u001b[0m \u001b[0;34m'layer_nodes:Dict[str, Iterable[docria.model.Node]]'\u001b[0m\u001b[0;34m,\u001b[0m \u001b[0;34m\"resolution='intersect'\"\u001b[0m\u001b[0;34m,\u001b[0m \u001b[0;34m\"group_span_field='text'\"\u001b[0m\u001b[0;34m,\u001b[0m \u001b[0;34m'layer_span_field:Union[Dict[str, str], NoneType]=None'\u001b[0m\u001b[0;34m,\u001b[0m \u001b[0;34m'include_empty_groups=True'\u001b[0m\u001b[0;34m]\u001b[0m\u001b[0;34m,\u001b[0m\u001b[0;34m\u001b[0m\n",
       "\u001b[0;34m\u001b[0m\u001b[0;34m)\u001b[0m \u001b[0;34m->\u001b[0m \u001b[0mList\u001b[0m\u001b[0;34m[\u001b[0m\u001b[0mTuple\u001b[0m\u001b[0;34m[\u001b[0m\u001b[0mdocria\u001b[0m\u001b[0;34m.\u001b[0m\u001b[0mmodel\u001b[0m\u001b[0;34m.\u001b[0m\u001b[0mNode\u001b[0m\u001b[0;34m,\u001b[0m \u001b[0mDict\u001b[0m\u001b[0;34m[\u001b[0m\u001b[0mstr\u001b[0m\u001b[0;34m,\u001b[0m \u001b[0mList\u001b[0m\u001b[0;34m[\u001b[0m\u001b[0mdocria\u001b[0m\u001b[0;34m.\u001b[0m\u001b[0mmodel\u001b[0m\u001b[0;34m.\u001b[0m\u001b[0mNode\u001b[0m\u001b[0;34m]\u001b[0m\u001b[0;34m]\u001b[0m\u001b[0;34m]\u001b[0m\u001b[0;34m]\u001b[0m\u001b[0;34m\u001b[0m\u001b[0;34m\u001b[0m\u001b[0m\n",
       "\u001b[0;31mDocstring:\u001b[0m\n",
       "Groups all nodes in layer_nodes into the corresponding bucket_node\n",
       "\n",
       "Nodes with textspans that equals to NIL/None are ignored.\n",
       "\n",
       ":param group_nodes: the nodes to group by\n",
       ":param layer_nodes: the nodes to assign to zero or more groups\n",
       ":param resolution: which resolution algorithm that shall be used: *intersect* or *cover*\n",
       "\n",
       "                    * \"**intersect**\": the identity function for resolutions (all intersects are grouped)\n",
       "                    * \"**cover**\": imposes a requirement that the group node must fully cover the layer node                        (node_start >= group_start and node_stop <= group_stop)\n",
       "\n",
       ":param group_span_field: name of textspan property name, *default field* is \"text\"\n",
       ":param layer_span_field: dictionary {layer: field name for textspan}, *default field* is \"text\"\n",
       ":param include_empty_groups: include groups which does not contain any matching layer nodes\n",
       "\n",
       ":return List of tuples: (group node, dictionary with layer name -> [ content of group for this layer ])\n",
       "\u001b[0;31mFile:\u001b[0m      ~/Development/docria/py/docria/algorithm.py\n",
       "\u001b[0;31mType:\u001b[0m      function\n"
      ]
     },
     "metadata": {},
     "output_type": "display_data"
    }
   ],
   "source": [
    "group_by_span?"
   ]
  },
  {
   "cell_type": "markdown",
   "metadata": {},
   "source": [
    "Hint: The statement below works because, 'text' is the default name of a span, if it is not called 'text', either group_span_field or layer_span_field = {'token': name} must be set. "
   ]
  },
  {
   "cell_type": "code",
   "execution_count": 27,
   "metadata": {},
   "outputs": [],
   "source": [
    "of_tokens = doc[\"token\"][doc[\"token\"][\"text\"] == \"of\"]"
   ]
  },
  {
   "cell_type": "code",
   "execution_count": 28,
   "metadata": {},
   "outputs": [
    {
     "data": {
      "text/plain": [
       "[(Node<sentence#0>, {'token': [Node<token#4>, Node<token#47>]}),\n",
       " (Node<sentence#1>, {'token': [Node<token#76>]}),\n",
       " (Node<sentence#2>, {'token': []}),\n",
       " (Node<sentence#3>, {'token': [Node<token#130>]}),\n",
       " (Node<sentence#4>, {'token': []}),\n",
       " (Node<sentence#5>, {'token': [Node<token#170>]})]"
      ]
     },
     "execution_count": 28,
     "metadata": {},
     "output_type": "execute_result"
    }
   ],
   "source": [
    "group_by_span(group_nodes=doc[\"sentence\"], layer_nodes={\"token\": of_tokens})"
   ]
  },
  {
   "cell_type": "markdown",
   "metadata": {},
   "source": [
    "## Scale it up, processing many documents"
   ]
  },
  {
   "cell_type": "code",
   "execution_count": 29,
   "metadata": {},
   "outputs": [],
   "source": [
    "def segment(doc):\n",
    "    token_layer = doc.add_layer(\"token\", text=T.span(), partOfSpeech=T.string, namedEntity=T.string(\"O\"), indx=T.int32)\n",
    "    sentence_layer = doc.add_layer(\"sentence\", text=T.span(), tokens=T.nodespan(\"token\"))\n",
    "    \n",
    "    pubmed_abstract = doc.texts[\"main\"]\n",
    "    sentence_layer = doc[\"sentence\"]\n",
    "    token_layer = doc[\"token\"]\n",
    "    \n",
    "    last = 0\n",
    "    for m in re.finditer(r\"(?>[\\.\\?\\!])(?:\\s*(?=\\p{Lu})|$)\", str(pubmed_abstract)):\n",
    "        tokens = []\n",
    "        text = pubmed_abstract[last:m.start()+1]\n",
    "        \n",
    "        offset = last\n",
    "        for tok_i, tok_m in enumerate(re.finditer(r\"\\p{L}+|\\p{N}+(\\.\\p{N}+)?|[\\-\\/%():,\\.;+&#=!?@_<>]\", str(text))):\n",
    "            tokens.append(token_layer.add(indx=tok_i+1, text=doc.maintext[tok_m.start()+offset:tok_m.end()+offset]))\n",
    "\n",
    "        if len(tokens) > 0:\n",
    "            sentence = sentence_layer.add(text=text)\n",
    "            sentence[\"tokens\"] = NodeSpan(tokens[0], tokens[-1])\n",
    "\n",
    "        last = m.end()"
   ]
  },
  {
   "cell_type": "code",
   "execution_count": 30,
   "metadata": {},
   "outputs": [],
   "source": [
    "def process_pubmed(articles):\n",
    "    for article in articles:\n",
    "        title = article.find(\".//Article/ArticleTitle\").text\n",
    "        pmid = article.find(\".//PMID\").text\n",
    "        abstract = article.find(\".//Abstract\")\n",
    "        if abstract is None:\n",
    "            continue\n",
    "        \n",
    "        abstract_text = \"\".join(node.text for node in abstract.iterdescendants() if node.text is not None).strip()\n",
    "        \n",
    "        assert pmid is not None\n",
    "        assert title is not None\n",
    "        assert abstract is not None\n",
    "    \n",
    "        doc = Document()\n",
    "        doc.props[\"pmid\"] = pmid\n",
    "        doc.props[\"title\"] = title\n",
    "        doc.maintext = abstract_text\n",
    "        \n",
    "        segment(doc)\n",
    "        yield doc"
   ]
  },
  {
   "cell_type": "code",
   "execution_count": 31,
   "metadata": {},
   "outputs": [],
   "source": [
    "def process(inputfile, outputfile):\n",
    "    pubmedxml = etree.parse(inputfile)\n",
    "    with open(outputfile, \"wb\") as fout, MsgpackDocumentWriter(fout) as writer:\n",
    "        for doc in process_pubmed(pubmedxml.iterfind(\"PubmedArticle\")):\n",
    "            writer.write(doc)"
   ]
  },
  {
   "cell_type": "code",
   "execution_count": 32,
   "metadata": {},
   "outputs": [],
   "source": [
    "process(\"pubmed_mini/pubmed19n0080.xml.gz\", \"pubmed00080.docria\")"
   ]
  },
  {
   "cell_type": "code",
   "execution_count": 33,
   "metadata": {},
   "outputs": [],
   "source": [
    "from tqdm import tqdm"
   ]
  },
  {
   "cell_type": "code",
   "execution_count": 34,
   "metadata": {},
   "outputs": [],
   "source": [
    "reader = MsgpackDocumentReader(open(\"pubmed00080.docria\", \"rb\"))"
   ]
  },
  {
   "cell_type": "code",
   "execution_count": 35,
   "metadata": {},
   "outputs": [],
   "source": [
    "pmids = []\n",
    "titles = []"
   ]
  },
  {
   "cell_type": "code",
   "execution_count": 36,
   "metadata": {},
   "outputs": [
    {
     "name": "stderr",
     "output_type": "stream",
     "text": [
      "22477it [00:00, 50456.68it/s]\n"
     ]
    }
   ],
   "source": [
    "for doc in tqdm(reader):\n",
    "    props = doc.properties()\n",
    "    pmids.append(props[\"pmid\"])\n",
    "    titles.append(props[\"title\"])"
   ]
  },
  {
   "cell_type": "code",
   "execution_count": 37,
   "metadata": {},
   "outputs": [
    {
     "data": {
      "text/plain": [
       "['2393846',\n",
       " '2393847',\n",
       " '2393848',\n",
       " '2393849',\n",
       " '2393850',\n",
       " '2393851',\n",
       " '2393852',\n",
       " '2393853',\n",
       " '2393854',\n",
       " '2393855',\n",
       " '2393856',\n",
       " '2393857',\n",
       " '2393858',\n",
       " '2393859',\n",
       " '2393860',\n",
       " '2393861',\n",
       " '2393862',\n",
       " '2393863',\n",
       " '2393864',\n",
       " '2393865',\n",
       " '2393866',\n",
       " '2393867',\n",
       " '2393868',\n",
       " '2393869',\n",
       " '2393870',\n",
       " '2393871',\n",
       " '2393872',\n",
       " '2393873',\n",
       " '2393874',\n",
       " '2393875',\n",
       " '2393876',\n",
       " '2393877',\n",
       " '2393878',\n",
       " '2393879',\n",
       " '2393880',\n",
       " '2393881',\n",
       " '2393882',\n",
       " '2393883',\n",
       " '2393884',\n",
       " '2393885',\n",
       " '2393886',\n",
       " '2393887',\n",
       " '2393888',\n",
       " '2393889',\n",
       " '2393890',\n",
       " '2393891',\n",
       " '2393892',\n",
       " '2393894',\n",
       " '2393895',\n",
       " '2393896',\n",
       " '2393897',\n",
       " '2393898',\n",
       " '2393899',\n",
       " '2393900',\n",
       " '2393901',\n",
       " '2393902',\n",
       " '2393904',\n",
       " '2393905',\n",
       " '2393906',\n",
       " '2393907',\n",
       " '2393908',\n",
       " '2393909',\n",
       " '2393911',\n",
       " '2393913',\n",
       " '2393914',\n",
       " '2393916',\n",
       " '2393917',\n",
       " '2393918',\n",
       " '2393919',\n",
       " '2393920',\n",
       " '2393921',\n",
       " '2393922',\n",
       " '2393934',\n",
       " '2393935',\n",
       " '2393936',\n",
       " '2393937',\n",
       " '2393938',\n",
       " '2393939',\n",
       " '2393940',\n",
       " '2393941',\n",
       " '2393942',\n",
       " '2393943',\n",
       " '2393944',\n",
       " '2393945',\n",
       " '2393946',\n",
       " '2393947',\n",
       " '2393948',\n",
       " '2393949',\n",
       " '2393950',\n",
       " '2393951',\n",
       " '2393952',\n",
       " '2393953',\n",
       " '2393954',\n",
       " '2393955',\n",
       " '2393956',\n",
       " '2393957',\n",
       " '2393958',\n",
       " '2393959',\n",
       " '2393960',\n",
       " '2393961']"
      ]
     },
     "execution_count": 37,
     "metadata": {},
     "output_type": "execute_result"
    }
   ],
   "source": [
    "pmids[0:100]"
   ]
  },
  {
   "cell_type": "code",
   "execution_count": 38,
   "metadata": {},
   "outputs": [
    {
     "data": {
      "text/plain": [
       "['Differential growth-inhibitory effects of gallium on B-lymphocyte lines in high versus low iron concentrations.',\n",
       " 'Inhibition of growth of established N-methyl-N-nitrosourea-induced mammary cancer in rats by retinoic acid and ovariectomy.',\n",
       " 'Differential down-regulation of epidermal protein kinase C by 12-O-tetradecanoylphorbol-13-acetate and diacylglycerol: association with epidermal hyperplasia and tumor promotion.',\n",
       " 'Clearance and tissue distribution of recombinant human interleukin 1 beta in rats.',\n",
       " 'Effect of different levels of calorie restriction on azoxymethane-induced colon carcinogenesis in male F344 rats.',\n",
       " 'Uveal melanoma in relation to ultraviolet light exposure and host factors.',\n",
       " 'Lorglumide and loxiglumide inhibit gastrin-stimulated DNA synthesis in a rat tumoral acinar pancreatic cell line (AR42J).',\n",
       " 'Opposite effects of tamoxifen on in vitro protein kinase C activity and endogenous protein phosphorylation in intact MCF-7 cells.',\n",
       " 'Decreased serum concentrations of tamoxifen and its metabolites induced by aminoglutethimide.',\n",
       " 'Regulation of succinyl coenzyme A:acetoacetyl coenzyme A transferase in rat hepatoma cell lines.',\n",
       " 'Molecular genetic analysis of chromosome 22 in 81 cases of meningioma.',\n",
       " 'Cellular and molecular events in loss of estrogen sensitivity in ZR-75-1 and T-47-D human breast cancer cells.',\n",
       " 'Antitumor efficacy of interleukin-2 alone and in combination with adriamycin and dacarbazine in murine solid tumor systems.',\n",
       " 'Seasonal change in the concentration of progesterone receptor in breast cancer.',\n",
       " 'Ascorbate free radical stimulates the growth of a human promyelocytic leukemia cell line.',\n",
       " 'DNA damage induced by a new 2-chloroethyl nitrosourea on malignant melanoma cells.',\n",
       " 'Cloning and sequencing of a complementary DNA encoding a Mr 70,000 human breast epithelial mucin-associated antigen.',\n",
       " 'Suramin inhibits laminin- and thrombospondin-mediated melanoma cell adhesion and migration and binding of these adhesive proteins to sulfatide.',\n",
       " 'Pharmacokinetics, biodistribution, and gamma camera imaging of 111In-KC-4G3 murine monoclonal antibody in athymic nude mice with or without human tumor xenografts.',\n",
       " 'A novel ribonucleoprotein complex defined by monoclonal antibodies to NIH 3T3 cells transfected with human pancreatic adenocarcinoma DNA.',\n",
       " 'Flow and image cytometric DNA analysis in rhabdomyosarcoma.',\n",
       " 'Effect of tumor necrosis factor on the antitumor efficacy and toxicity of aminopterin-monoclonal antibody conjugates: parameters for optimization of therapy.',\n",
       " 'Effect of epidermal growth factor on glioma cell growth, migration, and invasion in vitro.',\n",
       " 'Cathepsin D in breast cancer cells can digest extracellular matrix in large acidic vesicles.',\n",
       " 'Neuropeptide Y expression in the developing adrenal gland and in childhood neuroblastoma tumors.',\n",
       " 'Production of hydrogen peroxide by murine epidermal keratinocytes following treatment with the tumor promoter 12-O-tetradecanoylphorbol-13-acetate.',\n",
       " 'Integrin (alpha 6/beta 4) expression in human lung cancer as monitored by specific monoclonal antibodies.',\n",
       " '[The role of immunology in monitoring the effects of environmental pollution].',\n",
       " '[The effect of OROS metoprolol in mild and moderately severe essential hypertension].',\n",
       " '[Epidemiology of bronchial asthma and bronchial hyperreactivity].',\n",
       " '[Relation of angina pectoris before myocardial infarct to coronarographic findings after thrombolytic therapy].',\n",
       " '[A simple method of determining the intensity and duration of physical exertion].',\n",
       " '[Comparison of the results of transbronchial puncture of the lymph nodes with surgical findings in patients with lung cancer].',\n",
       " '[Experience with a computer database in a cytogenetic laboratory].',\n",
       " '[Problems with indications for extracorporeal lithotripsy in urolithiasis].',\n",
       " '[Thromboembolic incidents in the cardiology department].',\n",
       " '[The effect of HLA alloimmunization and other factors on the effectiveness of thrombocyte concentrates].',\n",
       " '[Reduced hospitalization stay after surgery for inguinal hernia].',\n",
       " '[The ADAM syndrome].',\n",
       " '[Type I and III membranoproliferative glomerulonephritis. Clinical picture and prognosis].',\n",
       " '[Percutaneous transhepatic drainage of the bile ducts].',\n",
       " '[Distal renal tubular acidosis in primary biliary cirrhosis].',\n",
       " '[Present state and perspectives of endocrinology in Czechoslovakia].',\n",
       " \"[Disorders of the cardiovascular system in Turner's syndrome].\",\n",
       " '[The early phase of development of myocardial infarction in diabetics].',\n",
       " '[Injuries of the nose in neonates].',\n",
       " '[Treatment of chronic glomerulonephritis with small doses of acetylsalicylic acid].',\n",
       " '[Nutrition and metabolic diseases with a mass incidence].',\n",
       " '[Noninvasive quantification of the severity of aortic defects using the Doppler method].',\n",
       " '[The effect of euphylline on energy expenditure in obese patients during treatment with a reducing diet].',\n",
       " '[Dual cephalosporins--a return of fixed combinations of antibiotics?].',\n",
       " '[An unusual complication of myxoma of the left atrium].',\n",
       " 'Spontaneous and experimentally evoked [Ca2+]i-transients in cardiac myocytes measured by means of a fast Fura-2 technique.',\n",
       " 'Cholera toxin and its B subunit do not change cytosolic free calcium concentration.',\n",
       " 'Optical response of the indicator chlortetracycline to membrane potential.',\n",
       " 'Influence of ischemia on [Ca2+]i transients following drug therapy in hearts from aortic constricted rats.',\n",
       " 'The MURF3 gene of T. brucei contains multiple domains of extensive editing and is homologous to a subunit of NADH dehydrogenase.',\n",
       " 'Identification of an origin of bidirectional DNA replication in mammalian chromosomes.',\n",
       " 'Establishment of myoid cells from bone marrow.',\n",
       " 'A simple dye-coupling assay for evaluating gap junctional communication: the importance of transcription and translation on the establishment of dye-coupling.',\n",
       " 'Concanavalin A affects glycosaminoglycans cellular and extracellular accumulation in cultured embryonic fibroblasts.',\n",
       " 'Improved visualization of ultrastructural components in the avian ovarian granulosa basement membrane.',\n",
       " 'Quantitative relationships between single-cell and cell-population model parameters for chemosensory migration responses of alveolar macrophages to C5a.',\n",
       " '[The effect of the method of detecting indocyanine green (HPLC, spectrophotometry) on the determination of pharmacokinetic parameters].',\n",
       " '[Determination of pentoxifylline and its major metabolites in human plasma using HPLC].',\n",
       " \"[Clinical approach to hereditary metabolic disorders in neonates. Review of 20 years' experience].\",\n",
       " '[Echocardiographic diagnosis of interrupted aortic arch in a group of 13 patients (children)].',\n",
       " '[The clinical picture and treatment of migraine in children].',\n",
       " '[Hyperosmolar hyperglycemic coma in a 10-year-old patient].',\n",
       " '[Pericardial teratoma in an infant].',\n",
       " '[A rational diagnostic program for hypertension in children].',\n",
       " '[The fight against diarrheal disease in Yemen: introduction of oral rehydration therapy].',\n",
       " '[Acute interstitial nephritis with uveitis in children and adolescents].',\n",
       " '[Continuing education of administrators in Czechoslovak health care].',\n",
       " '[Parallels in drug utilization--II].',\n",
       " '[Trends in drug utilization in elderly persons].',\n",
       " '[Possibilities of improving the community health care system in cooperation with the hospitals/polyclinics].',\n",
       " '[The role of the Czechoslovak Physical Education Society in educating towards a healthy life style].',\n",
       " 'Alternating current voltammetric determination of DNA damage.',\n",
       " 'Inhibition of Chinese hamster ovary cell DNA synthesis by hydrogen peroxide.',\n",
       " 'Trapping and measurement of short-lived alkylating agents in a recirculating flow system.',\n",
       " 'Structure-activity relationships in the myotoxicity of ring-methylated p-phenylenediamines in rats and correlation with autoxidation rates in vitro.',\n",
       " 'Interaction of chlorinated phenols with thyroxine binding sites of human transthyretin, albumin and thyroid binding globulin.',\n",
       " 'Latex piezoelectric immunoassay: detection of agglutination of antibody-bearing latex using a piezoelectric quartz crystal.',\n",
       " 'Solution-phase synthesis of porcine brain natriuretic peptide (pBNP) using S-trimethylacetamidomethylcysteine.',\n",
       " 'Woodfordin C, a macro-ring hydrolyzable tannin dimer with antitumor activity, and accompanying dimers from Woodfordia fruticosa flowers.',\n",
       " 'Effects of interaction of tannins with co-existing substances. VII. Inhibitory effects of tannins and related polyphenols on xanthine oxidase.',\n",
       " 'Studies on antiallergic agents. II. Quantitative structure-activity relationships of novel 6-substituted N-(1H-tetrazol-5-yl)-2-pyrazinecarboxamides.',\n",
       " 'Synthesis and antifungal activities of some thiolane-triazole derivatives.',\n",
       " 'Studies on uricosuric diuretics. I. Syntheses and activities of xanthonyloxyacetic acids and dihydrofuroxanthone-2-carboxylic acids.',\n",
       " 'Synthesis and biological evaluation of quinocarcin derivatives.',\n",
       " 'Novel 4-substituted 2-piperazinylquinazolines as potent anticonvulsive and antihypoxic agents.',\n",
       " 'Processing of nux vomica. II. Changes in alkaloid composition of the seeds of Strychnos nux-vomica on traditional drug-processing.',\n",
       " 'Anti-ulcer effects of Trichosanthes fruits.',\n",
       " 'A chemiluminogenic substrate for N-acetyl-beta-D-glucosaminidase, o-aminophthalylhydrazido-N-acetyl-beta-D-glucosaminide.',\n",
       " 'Urethane-hydrolyzing enzyme from Citrobacter sp.',\n",
       " 'Inhibition of influenza virus sialidase and anti-influenza virus activity by plant flavonoids.',\n",
       " 'Effects of food on bioavailability of two indomethacin capsules containing different sizes of particles.',\n",
       " 'Bile salt-induced disintegration of egg phosphatidylcholine liposomes: a kinetic study based on turbidity changes.',\n",
       " 'Hepatic transport of an antiallergic agent, emedastine difumarate: interspecies difference in rats and guinea pigs.']"
      ]
     },
     "execution_count": 38,
     "metadata": {},
     "output_type": "execute_result"
    }
   ],
   "source": [
    "titles[0:100]"
   ]
  },
  {
   "cell_type": "code",
   "execution_count": 39,
   "metadata": {},
   "outputs": [],
   "source": [
    "sentences = []"
   ]
  },
  {
   "cell_type": "code",
   "execution_count": 40,
   "metadata": {},
   "outputs": [
    {
     "name": "stderr",
     "output_type": "stream",
     "text": [
      "22477it [00:21, 1023.74it/s]\n"
     ]
    }
   ],
   "source": [
    "reader = MsgpackDocumentReader(open(\"pubmed00080.docria\", \"rb\"))\n",
    "for mdoc in tqdm(reader):\n",
    "    doc = mdoc.document()\n",
    "    sentences.extend([str(sent[\"text\"]) for sent in doc[\"sentence\"]])"
   ]
  },
  {
   "cell_type": "code",
   "execution_count": 41,
   "metadata": {},
   "outputs": [
    {
     "data": {
      "text/plain": [
       "['The growth inhibitory effects of gallium on a murine and human B-cell line were studied using two different serum-free culture systems: (a) ferric citrate medium containing 500 microM iron and (b) transferrin medium containing 5 micrograms/ml of iron-saturated transferrin (0.125 microM iron).',\n",
       " 'For the human cell line in ferric citrate medium, 50% growth inhibition achieved in the presence of transferrin-gallium represented a gallium concentration 80-fold lower than the concentration required when gallium nitrate was added.',\n",
       " 'In the transferrin system, significantly higher transferrin-gallium concentrations were required to achieve the same inhibitory effects.',\n",
       " 'Monoclonal antibody to the transferrin receptor significantly decreased the growth inhibiting effect of transferrin-gallium in the mouse ferric citrate system.',\n",
       " 'Thus, under very different culture conditions, gallium and iron appear to compete via the transferrin-transferrin receptor pathway for cellular uptake.',\n",
       " 'The growth inhibitory effects of gallium are markedly potentiated when the metal is taken up by functional transferrin receptors even in cells continuously cultured in transferrin-free medium.',\n",
       " 'Retinoids are effective in the prevention of N-methyl-N-nitrosourea-induced mammary carcinoma; retinoids and hormonal therapy exert synergy in cancer prevention.',\n",
       " 'In this study, we examined the effects of the dietary supplementation with all-trans retinoic acid (RA) alone or in combination with ovariectomy on the growth of established N-methyl-N- nitrosourea-induced mammary carcinomas in rats.',\n",
       " 'In the first experiment, animals (n = 13) were entered in each of the following treatment groups when their tumors reached 2 cm in diameter: 1, control diet; 2, RA 300 mg/kg diet; 3, ovariectomy (OVX); 4, RA 300 mg/kg diet plus OVX.',\n",
       " 'Animals were sacrificed after 28 days of therapy.',\n",
       " 'In the RA-supplemented animals, tumor progression was less than in the control group without signs of toxicity as assessed by total and individual tumor surface area and weight, and animal weight.',\n",
       " 'OVX produced tumor regression that was not enhanced by the addition of RA.',\n",
       " 'In a second experiment, RA 65- and 130-mg/kg diets were dissolved in corn oil with antioxidants prior to mixing to the diet to improve biodisponibility.',\n",
       " 'This resulted in overall stabilization of tumor growth by RA addition to the diet at either of the 2 doses utilized; the addition of RA 65 mg/kg diet did not modify tumor regression induced by OVX.',\n",
       " 'In conclusion, the dietary supplementation with RA decreased the progression or stabilized the growth of the majority of tumors and only rarely (6%) induced tumor regression; no additive or synergistic effects were found with the combination of RA and ovariectomy.',\n",
       " 'A single topical application of 2 nmol 12-O-tetradecanoylphorbol-13-acetate (TPA) to CD-1 mouse skin resulted in a rapid decrease in cytosolic, particulate, and total epidermal protein kinase C (PKC) activity at 6 h, which remained decreased by 70% at 96 h.',\n",
       " 'This dose of TPA produced epidermal hyperplasia as determined by an increase in the number of nucleated epidermal cell layers.',\n",
       " 'A single application of 10 mumol sn-1,2-didecanoylglycerol, a model sn-1,2-diacylglycerol and complete tumor promoter, induced ornithine decarboxylase to an extent similar to that of 2 nmol TPA.',\n",
       " 'However, sn-1,2-didecanoylglycerol produced an 80% increase in particulate PKC activity that was accompanied by a 45% decrease in cytosolic PKC activity, resulting in no net change in total PKC activity.',\n",
       " 'Unlike TPA, this dose of sn-1,2-didecanoylglycerol did not produce a hyperplastic response.',\n",
       " 'Additional dosing regimens were examined to determine whether the down-regulation of particulate PKC activity was associated with hyperplasia and tumor promotion.',\n",
       " 'A tumor-promoting dosing regimen consisting of multiple applications of 5 or 10 mumol sn-1,2-didecanoylglycerol twice daily for 1 week resulted in more than a 60% decrease in cytosolic and particulate PKC activity and a marked epidermal hyperplasia.',\n",
       " 'Twice-weekly application of 10 mumol sn-1,2-didecanoylglycerol, a nonpromoting dosing rate, for 1 week decreased cytosolic PKC activity but increased particulate PKC activity and did not produce hyperplasia.',\n",
       " 'Dosing regimens utilizing multiple applications of TPA decreased both particulate and cytosolic PKC activity and were also hyperplastic.',\n",
       " 'PKC activity was also measured in epidermal papillomas from mice initiated with 7,12-dimethylbenz[a]- anthracene and promoted with either sn-1,2-didecanoylglycerol or TPA.',\n",
       " 'Cytosolic- and particulate-associated PKC activity in these papillomas was decreased by at least 70% and 40%, respectively, when compared with epidermis and whole skin.',\n",
       " 'After 2 months without promoter treatment, both cytosolic and particulate PKC activity remained decreased in the papillomas, whereas epidermal PKC activity returned to control values by 2 to 3 weeks following cessation of several weeks of TPA treatment.',\n",
       " 'Collectively, these data demonstrate that the down-regulation of epidermal PKC is associated with and may be a permissive event for epidermal hyperplasia and tumor promotion.',\n",
       " 'Clearance and tissue distribution of recombinant human interleukin 1 beta (IL-1 beta) were investigated by determining the growth-inhibitory activity on tumor cells in rats after i.v. or s.c. administration.',\n",
       " 'A single 100 micrograms/kg i.v. bolus was biphasically eliminated with a terminal half-life of 19.0 min in normal rats.',\n",
       " 'Serum IL-1 beta activity reached a maximum level 1 h after s.c. administration and then declined with a half-life of 1.59 h.',\n",
       " 'The absolute bioavailability was 40.5%.',\n",
       " 'IL-1 beta activity was mainly located in the kidney and was particularly accumulated in the lysosomal fraction.',\n",
       " 'A 14-fold increase in the elimination half-life of IL-1 beta activity was found in nephrectomized rats, in comparison with sham-treated control rats.',\n",
       " 'Pretreatment with E-64 and leupeptin, both of which are thiol protease inhibitors, had no effect on the plasma levels of IL-1 beta activity, but a 2-fold increase in plasma level was found in rats pretreated with pepstatin A, a carboxyl protease inhibitor.',\n",
       " 'Since excreted IL-1 beta activity was not detected in urine, these results suggest that the kidney is the main site of its metabolic degradation and that carboxyl protease is involved in its metabolic inactivation.',\n",
       " 'Epidemiological and animal model studies indicate that increased calorie intake increases the risk for colon cancer development.',\n",
       " 'Previous studies in animal models restricted the calorie intake severely, and none of these studies have investigated a dose-response effect of different levels of calorie restriction on colon carcinogenesis.',\n",
       " 'The present study was designed to investigate the effect of various levels of calorie restriction on colon carcinogenesis in male F344 rats fed the low and high fat diets and the effect of these diets on the activities of colonic mucosal and tumor ornithine decarboxylase (ODC) and protein tyrosine kinase.',\n",
       " 'Starting at 5 weeks of age, groups of male F344 rats were fed the low fat or high fat diets ad libitum.',\n",
       " 'At 7 weeks of age, all animals except the vehicle-treated groups were given s.c. injections of azoxymethane (AOM) (15 mg/kg body weight, once weekly for 2 weeks).',\n",
       " 'Four days after the second injection, groups of animals were restricted to 90, 80, or 70% of total calories consumed by the high fat ad libitum group (i.e., 10, 20, and 30% calorie restriction, respectively).',\n",
       " 'In the low fat groups, animals were restricted to 80% of total calories consumed by the low fat ad libitum group (i.e., 20% restriction).',\n",
       " 'Thirty-six weeks after AOM injections, all animals were necropsied and colon tumors were used for histopathology and ODC and protein tyrosine kinase analysis.',\n",
       " 'In the second experiment, the protocol was the same as above except that the animals were sacrificed 5 days after the second AOM injection and colonic mucosal ODC and protein tyrosine kinase activities were assayed.',\n",
       " 'The incidence and multiplicity of colon tumors were significantly inhibited in animals fed the high fat 20% calorie-restricted and high fat 30% calorie-restricted diets, as compared to those fed the high fat ad libitum diet.',\n",
       " 'The regression coefficient representing the dose-response effect of different levels of calorie restriction in both high fat groups is significant.',\n",
       " 'Results also indicate that AOM treatment significantly increased the colonic mucosal ODC and protein tyrosine kinase activities.',\n",
       " 'This stimulation was inhibited by feeding the calorie-restricted diets.',\n",
       " 'ODC and protein tyrosine kinase activities were lower in the colon tumors of animals fed the calorie-restricted diets.',\n",
       " 'We conducted a case-control interview study among 1277 subjects (407 patients, 870 controls selected by using random digit dial) in 11 western United States to determine whether uveal melanoma and cutaneous melanoma shared common risk factors.',\n",
       " 'After adjustment for other factors, the risk of uveal melanoma was increased for those with green, gray, or hazel eyes [relative risk (RR) = 2.5, P less than 0.001] or blue eyes (RR = 2.2, P less than 0.001) when compared to brown.',\n",
       " 'A tendency to sunburn after 0.5 h midday summer sun exposure increased risk for uveal melanoma (burn with tanning RR = 1.5, P = 0.02; burn with little tanning RR = 1.8, P less than 0.001; burn with no tanning RR = 1.7, P = 0.002); as did exposure to UV or black lights (RR = 3.7, P = 0.003); and welding burn, sunburn of the eye, or snow blindness (RR = 7.2, P less than 0.001).',\n",
       " 'An association with uveal melanoma was also noted with an increasing number of large nevi (P = 0.04 for trend), although the individual risk estimates were not remarkable.',\n",
       " 'These data suggest that host factors and exposure to UV light are risk factors for uveal melanoma.',\n",
       " 'Many reports emphasized the role of gastrin as growth factor on normal gastrointestinal mucosa and pancreas.',\n",
       " 'In the present study, we analyzed the proliferative effects of cholecystokinin (CCK) and gastrin peptides on a rat tumoral pancreatic cell line, AR42J, which possesses both CCKA and CCKB receptor subtypes.',\n",
       " 'The results showed a good correlation between the binding of gastrin to CCKB receptor [Kd 1.125 +/- 0.3 (SD) nM] and its ability to either induce ornithine decarboxylase activity [50% effective concentration, 0.6 +/- 0.3 nM] and [3H]-thymidine incorporation [50% effective concentration, 2 +/- 0.4 nM].',\n",
       " 'Furthermore, the ability of different cholecystokinin and gastrin antagonists such as proglumide and asperlicin derivatives (respectively, CR1409, CR1505, and L364,718) were tested.',\n",
       " 'We found that all antagonists displaced 125I-labeled gastrin binding, with the following order of potencies: L364,718 greater than CR1409 greater than CR1505 greater than proglumide.',\n",
       " 'Furthermore, the 50% inhibitory concentration of CR1409 and CR1505 to inhibit gastrin stimulated ornithine decarboxylase activity (an early event involved in cell proliferation) and [3H]thymidine incorporation were in agreement with their constants of inhibition (Ki) on gastrin binding.',\n",
       " 'The L364,718 compound, at a concentration which fully occupied the CCKA without affecting the CCKB, had no effect on gastrin stimulated ornithine decarboxylase activity and [3H]thymidine incorporation.',\n",
       " 'In addition, this compound appeared to be a full agonist on CCKB receptor.',\n",
       " 'These results confirm the implication of the CCKB receptor in the proliferative response of AR42J cells to gastrin.',\n",
       " 'We investigated the effects of the antiestrogen tamoxifen on MCF-7 cell protein kinase C either by using the in vitro histone kinase assay or by studying the phosphorylation of its endogenous Mr 28,000 protein substrate in intact cells.',\n",
       " 'In the in vitro assay, tamoxifen inhibited the enzyme competitively with respect to phospholipid, whereas estradiol and morpholinobenzyl phenoxy ethanamine, a specific ligand for antiestrogen binding sites, were considerably less efficient.',\n",
       " 'In contrast, tamoxifen did not affect phosphorylation of the Mr 28,000 protein induced by the phorbol ester 12-O-tetradecanoylphorbol 13-acetate in intact MCF-7 cells.',\n",
       " 'Estradiol and morpholinobenzyl phenoxy ethanamine also had no effect.',\n",
       " 'At high concentration (100 microM), tamoxifen itself stimulated specific phosphorylation of this Mr 28,000 protein.',\n",
       " 'Estradiol and morpholinobenzyl phenoxy ethanamine neither mimicked nor interfered with this effect.',\n",
       " 'Our data suggest that the effect of tamoxifen on protein kinase C activity depends on the phospholipid environment of the enzyme, and opposite effects may be observed in intact cells to those seen in disrupted cells.',\n",
       " 'The action of tamoxifen on endogenous protein phosphorylation was thought to be due to direct interaction with the phospholipid binding domain of the enzyme rather than by interaction with the estrogen receptor or the antiestrogen binding site.',\n",
       " 'Nevertheless, our results do not rule out a possible activation by tamoxifen of specific protein kinase(s) and phosphatase(s).',\n",
       " 'In any case, the antiproliferative activity of tamoxifen on MCF-7 cells cannot be attributed to its effects on protein kinase C.',\n",
       " 'The antiestrogen tamoxifen and the aromatase inhibitor aminoglutethimide show similar response rates when used in the endocrine management of advanced breast cancer.',\n",
       " 'However, numerous clinical trials have demonstrated no increase in response rate from treatment with the drug combination of tamoxifen plus aminoglutethimide.',\n",
       " 'We investigated the possibility of a pharmacokinetic interaction between these two drugs in six menopausal woman with breast cancer.',\n",
       " 'All patients were investigated under three different conditions (termed phases A, B, and C).',\n",
       " 'The steady state kinetics of tamoxifen were determined when administered alone (phase A) and after coadministration of aminoglutethimide for 6 weeks (phase B).',\n",
       " 'In phase B, the pharmacokinetics for aminoglutethimide were determined and compared with these parameters after a tamoxifen washout of 6 weeks (phase C).',\n",
       " 'The serum concentration of tamoxifen and most of its metabolites ([trans-1(4-beta-hydroxy-ethoxyphenyl)-1,2-diphenylbut-1-ene], 4-hydroxytamoxifen, 4-hydroxy-N-desmethyltamoxifen, N-desmethyltamoxifen, and N-desdimethyltamoxifen) were markedly reduced following aminoglutethimide administration, corresponding to an increase in tamoxifen clearance from 189-608 ml/min.',\n",
       " 'The amount of most metabolites in serum increased relative to the amount of parent tamoxifen.',\n",
       " 'These data are consistent with induction of tamoxifen metabolism during aminoglutethimide exposure.',\n",
       " 'We found no effect of tamoxifen on aminoglutethimide pharmacokinetics or acetylation.',\n",
       " 'We conclude that this aminoglutethimide-tamoxifen interaction should be taken into account when evaluating the clinical effect of this drug combination relative to monotherapy.',\n",
       " 'The regulation of succinyl-CoA:acetoacetyl-CoA transferase (CoA transferase) has been studied in 8 rat hepatoma cell lines.',\n",
       " 'Compared with normal rat hepatocytes, which have almost nondetectable activity of the enzyme, the hepatoma cell lines have a wide range of expression of CoA transferase activity, from as low as 45 nmol/min/mg to as high as 960 nmol/min/mg.',\n",
       " 'Western blotting showed that the different levels of CoA transferase activity were due to differing amounts of the enzyme in the cells.',\n",
       " 'This was further attributed to the varying amounts of the enzyme synthesized in the cells as monitored by L-[35S]methionine labeling followed by immunoprecipitation.',\n",
       " 'To study further the differential expression of CoA transferase in the hepatoma cell lines, the relative quantity of functional CoA-transferase mRNA in the cells was measured by in vitro translation.',\n",
       " 'The results showed that the levels of functional CoA transferase mRNA detected were consistent with the differences in the enzyme activity in the cells.',\n",
       " 'Since CoA transferase is the key enzyme responsible for the utilization of ketone bodies as an alternative energy source, the expression of CoA transferase in hepatoma cells may play a role in energy production.',\n",
       " 'Constitutional and tumor tissue genotypes from 81 unrelated patients with meningioma were compared at 25 polymorphic loci (restriction fragments length alleles) on chromosome 22.',\n",
       " 'Thirty tumors (37%) retained the constitutional genotype along chromosome 22, a finding consistent with no detectable aberrations on chromosome 22 as studied.',\n",
       " 'Forty-two tumors (52%) showed loss of one allele at all informative loci consistent with monosomy 22 in the tumor DNA.',\n",
       " 'The remaining 9 tumors (11%) showed retained constitutional heterozygosity in the tumor DNA at one or more centromeric loci and loss of the heterozygosity at other telomeric loci, which is consistent with variable terminal deletions of one chromosome 22q in the tumor DNA.',\n",
       " 'The localization of breakpoints in these 9 cases with deletions suggests that a meningioma locus is localized distal to myoglobin locus, within 22q12.3-qter.',\n",
       " 'The male cases showed a higher percentage of tumors with no detectable aberrations on chromosome 22, a finding which may suggest that tumors of males have preferentially smaller rearrangements on chromosome 22q than those of females or that the male and female cases with no detected aberrations have another mechanism of oncogenesis.',\n",
       " 'In view of the recent findings on the localization of the neurofibromatosis-2 gene on chromosome 22, the data from case 11 of our series suggests that the meningioma and the neurofibromatosis-2 loci are separate entities.',\n",
       " 'When deprived of steroid in the long term, both estrogen-dependent (ZR-75-1) and estrogen-responsive (T-47-D) human breast cancer cells lose estrogen regulation of cell growth in a reproducible time course using both stock lines and recloned cells.']"
      ]
     },
     "execution_count": 41,
     "metadata": {},
     "output_type": "execute_result"
    }
   ],
   "source": [
    "sentences[0:100]"
   ]
  },
  {
   "cell_type": "code",
   "execution_count": 42,
   "metadata": {},
   "outputs": [],
   "source": [
    "from multiprocessing import Pool, cpu_count"
   ]
  },
  {
   "cell_type": "code",
   "execution_count": 43,
   "metadata": {},
   "outputs": [],
   "source": [
    "import os"
   ]
  },
  {
   "cell_type": "code",
   "execution_count": 44,
   "metadata": {},
   "outputs": [],
   "source": [
    "inputfiles = list(\n",
    "    map(lambda fname: os.path.join(\"pubmed_mini\", fname),\n",
    "        filter(lambda fname: fname.endswith(\".xml.gz\"), os.listdir(\"pubmed_mini\"))\n",
    "    )\n",
    ")"
   ]
  },
  {
   "cell_type": "code",
   "execution_count": 45,
   "metadata": {},
   "outputs": [
    {
     "data": {
      "text/plain": [
       "['pubmed_mini/pubmed19n0080.xml.gz']"
      ]
     },
     "execution_count": 45,
     "metadata": {},
     "output_type": "execute_result"
    }
   ],
   "source": [
    "inputfiles"
   ]
  },
  {
   "cell_type": "code",
   "execution_count": 46,
   "metadata": {},
   "outputs": [],
   "source": [
    "outputfiles = [os.path.join(\"pubmed_mini\", os.path.basename(fname) + \".docria\") for fname in inputfiles]"
   ]
  },
  {
   "cell_type": "code",
   "execution_count": 47,
   "metadata": {},
   "outputs": [
    {
     "data": {
      "text/plain": [
       "['pubmed_mini/pubmed19n0080.xml.gz.docria']"
      ]
     },
     "execution_count": 47,
     "metadata": {},
     "output_type": "execute_result"
    }
   ],
   "source": [
    "outputfiles"
   ]
  },
  {
   "cell_type": "code",
   "execution_count": 48,
   "metadata": {},
   "outputs": [],
   "source": [
    "def genwork(inputfiles, outputfiles):\n",
    "    for i, o in zip(inputfiles, outputfiles):\n",
    "        yield {\"inputfile\": i , \"outputfile\": o}"
   ]
  },
  {
   "cell_type": "code",
   "execution_count": 49,
   "metadata": {},
   "outputs": [],
   "source": [
    "def work(args):\n",
    "    inputfile = args[\"inputfile\"]\n",
    "    outputfile = args[\"outputfile\"]\n",
    "    process(inputfile, outputfile)\n",
    "    return outputfile"
   ]
  },
  {
   "cell_type": "code",
   "execution_count": 50,
   "metadata": {},
   "outputs": [],
   "source": [
    "pool = Pool(cpu_count())"
   ]
  },
  {
   "cell_type": "code",
   "execution_count": 51,
   "metadata": {},
   "outputs": [
    {
     "data": {
      "text/plain": [
       "\u001b[0;31mSignature:\u001b[0m \u001b[0mpool\u001b[0m\u001b[0;34m.\u001b[0m\u001b[0mimap_unordered\u001b[0m\u001b[0;34m(\u001b[0m\u001b[0mfunc\u001b[0m\u001b[0;34m,\u001b[0m \u001b[0miterable\u001b[0m\u001b[0;34m,\u001b[0m \u001b[0mchunksize\u001b[0m\u001b[0;34m=\u001b[0m\u001b[0;36m1\u001b[0m\u001b[0;34m)\u001b[0m\u001b[0;34m\u001b[0m\u001b[0;34m\u001b[0m\u001b[0m\n",
       "\u001b[0;31mDocstring:\u001b[0m Like `imap()` method but ordering of results is arbitrary.\n",
       "\u001b[0;31mFile:\u001b[0m      ~/anaconda3/lib/python3.6/multiprocessing/pool.py\n",
       "\u001b[0;31mType:\u001b[0m      method\n"
      ]
     },
     "metadata": {},
     "output_type": "display_data"
    }
   ],
   "source": [
    "pool.imap_unordered?"
   ]
  },
  {
   "cell_type": "code",
   "execution_count": 52,
   "metadata": {},
   "outputs": [
    {
     "name": "stderr",
     "output_type": "stream",
     "text": [
      "1it [01:17, 77.35s/it]\n"
     ]
    }
   ],
   "source": [
    "for completed in tqdm(pool.imap_unordered(work, genwork(inputfiles, outputfiles))):\n",
    "    pass"
   ]
  }
 ],
 "metadata": {
  "kernelspec": {
   "display_name": "Python 3",
   "language": "python",
   "name": "python3"
  },
  "language_info": {
   "codemirror_mode": {
    "name": "ipython",
    "version": 3
   },
   "file_extension": ".py",
   "mimetype": "text/x-python",
   "name": "python",
   "nbconvert_exporter": "python",
   "pygments_lexer": "ipython3",
   "version": "3.6.7"
  }
 },
 "nbformat": 4,
 "nbformat_minor": 2
}
