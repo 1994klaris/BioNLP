{
 "cells": [
  {
   "cell_type": "code",
   "execution_count": null,
   "metadata": {},
   "outputs": [],
   "source": []
  },
  {
   "cell_type": "code",
   "execution_count": null,
   "metadata": {},
   "outputs": [],
   "source": []
  },
  {
   "cell_type": "code",
   "execution_count": null,
   "metadata": {},
   "outputs": [],
   "source": []
  },
  {
   "cell_type": "markdown",
   "metadata": {},
   "source": [
    "# September 19th\n",
    "Aims: \n",
    "•\tGet help with libraries and complete first step of old students’ log\n",
    "•\tGet started with jupyter notebook\n",
    "Activities:\n",
    "•\tMet Johan "
   ]
  },
  {
   "cell_type": "markdown",
   "metadata": {},
   "source": [
    "# September 18th\n",
    "Aims: start using jupyter and github\n",
    "Activities:\n",
    "•\tGave feedback on cell hunter text \n",
    "•\tGot stuck trying to run code from previous students’ notebooks\n",
    "o\tSeems like Salma or Johan can help me\n",
    "•\tContinued with week 6 coursera course machine learning\n",
    "•\tSonja uploaded a folder for me on github\n",
    "Next steps: meet Johan \n",
    "\n",
    "# September 17th\n",
    "Aims: get a better understanding of what I should focus on learning \n",
    "Activities: \n",
    "•\tCareer planning with Sonja\n",
    "o\tGoals for the fall: \n",
    "\tsee if research seems to be something for me, in that case maybe continue with it for PhD. \n",
    "\tLearn programming/maths/related stuff \n",
    "o\tLook for external ways (courses, seminars etc) to get knowledge, inspiration and network \n",
    "•\tMeet Johan and Sonja\n",
    "o\tInformation about project\n",
    "o\tSet up some next steps \n",
    "•\tTried to understand the report from Anna and Eric\n",
    "o\tThey used a library called ElementTree for creating a dictionary. Got help from Salma and Jon to install spacy and ElementTree.\n",
    "Next steps: \n",
    "•\tNew personal goal: spend 30 minutes per day for learning new things that are related to the project, but not as closely as for example reading articles that can be used for the project. Mostly thinking of online courses for programming\n",
    "\n",
    "# September 16th\n",
    "Aims: prepare for introduction of thesis \n",
    "Activities:\n",
    "•\tRead articles about lysosomes\n",
    "•\tWrote in introduction about lysosomes\n",
    "•\tStarted reading abstracts in text mining shared group \n",
    "Next steps:\n",
    "•\tRead more NLP articles \n",
    "\n",
    "# September 15th\n",
    "Aims: get knowledge and inspiration for programming \n",
    "Activities:\n",
    "•\tPink programming = programming event in Malmö for women, all levels of programming \n",
    "o\tListened to inspiring lectures\n",
    "o\tMet women who code\n",
    "o\tTried to get help to install spaCy, didn’t succeed \n",
    "\n",
    "\n",
    "# September 13th\n",
    "Aims: \n",
    "•\tMake non-programming progress (since I’m feeling a bit lost in that area)\n",
    "Activities:\n",
    "•\tRead and summarized a bunch of articles related to LCD\n",
    "o\tLater: Use for introduction of thesis \n",
    "Next steps:\n",
    "•\tAsk about spaCy and relevant next steps on Sunday\n",
    "\n",
    "# September 12th\n",
    "Aim: prepare for meeting with Sonja about far-reaching aims for career development and with Johan about project\n",
    "Activities:\n",
    "•\tRead documents from Sonja’s email and wrote down answers to questions I found relevant\n",
    "•\tLearned about Python library spaCy through https://spacy.io/usage/spacy-101 \n",
    "o\tTroubles installing it \n",
    "Next steps:  \n",
    "•\tMeet Sonja tomorrow\n",
    "•\tManage to install and try spaCy\n",
    "\n",
    "# September 11th\n",
    "Main aim: learn more about math relevant for ML\n",
    "Activities: \n",
    "•\tFinished Coursera’s Mathematics for machine learning: Linear algebra \n",
    "•\tDid not find the introduction to deep learning course very helpful\n",
    "•\tStarted NLP course, seems more promising\n",
    "•\tWorked a bit on the NLP resources list\n",
    "Next steps: talk to Sonja about whether it is most relevant to learn more math or if I’m ready for NLP\n",
    "\n",
    "# September 10th\n",
    "Aim: learn basic math\n",
    "•\tFinished week 2 and 3 of lin alg course\n",
    "o\tNot very good at solving matrix equations\n",
    "\n",
    "# September 9th\n",
    "•\tAttended lecture about statistics \n",
    "•\tContinued online course about lin alg\n",
    "\n",
    "\n",
    "# September 8th\n",
    "•\tAimed for starting a NLP course. Instead, followed their recommendations and started online course about linear algebra to prepare for that.\n",
    "\n",
    "# September 6th \n",
    "•\tLearnt that shared groups online work with the online version of EndNote \n",
    "•\tCoursera course: understanding less of the maths for each course week. Finished (but didn’t entirely understand) week 5, started on week 6\n",
    "•\tWorked on NLP resources document\n",
    "•\tRead 3 presentations from the previous students\n"
   ]
  },
  {
   "cell_type": "markdown",
   "metadata": {},
   "source": [
    "# September 5th \n",
    "•\tE-mailed about EndNote problems\n",
    "•\tFinished Coursera week 3 and 4\n",
    "•\tInstalled SPSS for statistical lecture September 9th \n"
   ]
  },
  {
   "cell_type": "markdown",
   "metadata": {},
   "source": [
    "# September 4th \n",
    "•\tAttended lecture about how to search for information for a scientific project\n",
    "•\tLearnt basics of EndNote\n",
    "o\tHaving problems esp with the desktop version, which apparently also Salma and John do. Seems like desktop version is needed for getting citation easily into word.\n",
    "•\tGot access card \n",
    "•\tFinished week 2 of Coursera/Stanford course about ML \n"
   ]
  },
  {
   "cell_type": "markdown",
   "metadata": {},
   "source": [
    "# September 3rd\n",
    "Got familiar with:\n",
    "•\tThe project\n",
    "o\tResources such as LU box, git hub\n",
    "o\tPlanned the next steps\n",
    "•\tColleagues \n",
    "•\tThe work spaces\n",
    "Started reading\n",
    "•\tMade flash cards for basic things worth memorizing\n",
    "•\tReport from former student \n",
    "•\tStarted reading articles från och med endnote-library \n",
    "\n",
    "Thoughts: \n",
    "Many terms in the articles and report are unfamiliar to me, I need more basic knowledge about ML and will prioritize the Coursera course before reading more articles about ML/text mining.\n"
   ]
  }
 ],
 "metadata": {
  "kernelspec": {
   "display_name": "Python 3",
   "language": "python",
   "name": "python3"
  },
  "language_info": {
   "codemirror_mode": {
    "name": "ipython",
    "version": 3
   },
   "file_extension": ".py",
   "mimetype": "text/x-python",
   "name": "python",
   "nbconvert_exporter": "python",
   "pygments_lexer": "ipython3",
   "version": "3.7.3"
  }
 },
 "nbformat": 4,
 "nbformat_minor": 2
}
