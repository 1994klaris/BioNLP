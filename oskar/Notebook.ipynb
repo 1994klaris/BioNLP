{
 "cells": [
  {
   "cell_type": "markdown",
   "id": "capital-pursuit",
   "metadata": {},
   "source": [
    "# Notebook - Oskar"
   ]
  },
  {
   "cell_type": "markdown",
   "id": "twelve-fault",
   "metadata": {},
   "source": [
    "## Python Depdencies\n",
    "Python Version: 3.8.8\n",
    "\n"
   ]
  },
  {
   "cell_type": "markdown",
   "id": "integral-triumph",
   "metadata": {},
   "source": [
    "## Introduction and Reading\n",
    "https://www.overleaf.com/read/xfdmhbzwshty"
   ]
  },
  {
   "cell_type": "markdown",
   "id": "physical-address",
   "metadata": {},
   "source": [
    "### 2021/3/26\n",
    "- First meeting with project leader. \n",
    "- Introduction to NPL in the biomedical field.\n",
    "- Created Repository & Setup Conda. "
   ]
  },
  {
   "cell_type": "markdown",
   "id": "nutritional-domain",
   "metadata": {},
   "source": [
    "### 2021/3/30\n",
    "Read up on coreference resolution.\\\n",
    "https://nlp.stanford.edu/projects/coref.shtml \\\n",
    "https://towardsdatascience.com/intro-to-coreference-resolution-in-nlp-19788a75adee \\\n",
    "https://towardsdatascience.com/most-popular-coreference-resolution-frameworks-574ba8a8cc2d"
   ]
  },
  {
   "cell_type": "markdown",
   "id": "external-teacher",
   "metadata": {},
   "source": [
    "### 2021/3/31\n",
    "Checked out tools and solutions\\\n",
    "https://github.com/huggingface/neuralcoref \\\n",
    "https://medium.com/huggingface/state-of-the-art-neural-coreference-resolution-for-chatbots-3302365dcf30\n",
    "\n",
    "Huggingface's neural coreference resolution tool is built using spaCy 2.1+ and \"annotates and resolves coreference clusters using neural networks\"\n",
    "\n",
    "Found one solution using nerualcoref with biomedical text: https://pypi.org/project/saber/ (Python).\n",
    "\n",
    "Checked out BERT and spanBERT\\\n",
    "https://github.com/mandarjoshi90/coref\n",
    "\n",
    "BERT stands for Bidirectional Encoder Representations from Transformers and uses a transformer-based machine learning technique for natural language processing. The coref library is the code from a paper exploring the use of BERT for coreference resolutions. \n",
    "https://arxiv.org/abs/1908.09091\n",
    "\n",
    "Another solution for coreference resolution in biomedical text: https://github.com/kilicogluh/Bio-SCoRes (Java)."
   ]
  },
  {
   "cell_type": "markdown",
   "id": "listed-prayer",
   "metadata": {},
   "source": [
    "### 2021/4/6\n",
    "Meeting with Supervisor \\\n",
    "Created document for the paper:\n",
    "https://www.overleaf.com/read/xfdmhbzwshty"
   ]
  },
  {
   "cell_type": "markdown",
   "id": "atomic-gasoline",
   "metadata": {},
   "source": [
    "### 2021/4/7\n",
    "Downloaded CRAFT from https://github.com/UCDenver-ccp/CRAFT.\n"
   ]
  },
  {
   "cell_type": "markdown",
   "id": "loved-norwegian",
   "metadata": {},
   "source": [
    "### 2021/4/8\n",
    "Looked at the format of the annotation in the CRAFT corpus.\n",
    "Looked up knowntator & read the wiki from the CRAFT github."
   ]
  },
  {
   "cell_type": "markdown",
   "id": "wooden-virus",
   "metadata": {},
   "source": [
    "### 2021/4/12\n",
    "Looked for tools regarding coref resolution. \\\n",
    "Candidates: \\\n",
    "SABER: Sequence Annotator for Biomedical Entities and Relations. Which includes coreference resolution.\n",
    "https://baderlab.github.io/saber/ \\\n",
    "BERT https://github.com/mandarjoshi90/coref \\\n",
    "NeuralCoref https://github.com/huggingface/neuralcoref \\\n",
    "\n",
    "\n",
    "Looked at: https://sites.google.com/view/craft-shared-task-2019/results?authuser=0 to see the teams parciptating in the CRAFT 2019 competions but it does not seem like any of them are publically available. \n"
   ]
  },
  {
   "cell_type": "code",
   "execution_count": null,
   "id": "contrary-starter",
   "metadata": {},
   "outputs": [],
   "source": []
  }
 ],
 "metadata": {
  "kernelspec": {
   "display_name": "python3.7",
   "language": "python",
   "name": "python3.7"
  },
  "language_info": {
   "codemirror_mode": {
    "name": "ipython",
    "version": 3
   },
   "file_extension": ".py",
   "mimetype": "text/x-python",
   "name": "python",
   "nbconvert_exporter": "python",
   "pygments_lexer": "ipython3",
   "version": "3.7.10"
  }
 },
 "nbformat": 4,
 "nbformat_minor": 5
}
