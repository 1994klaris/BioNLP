{
 "cells": [
  {
   "cell_type": "markdown",
   "metadata": {},
   "source": [
    "# Notebook - Oskar"
   ]
  },
  {
   "cell_type": "markdown",
   "metadata": {},
   "source": [
    "## Python Depdencies\n",
    "OS: Windows 10\n",
    "\n",
    "Python Version: 3.5 \n",
    "\n",
    "**TODO** Add depedencies"
   ]
  },
  {
   "cell_type": "markdown",
   "metadata": {},
   "source": [
    "## Introduction and Reading\n",
    "https://www.overleaf.com/read/xfdmhbzwshty"
   ]
  },
  {
   "cell_type": "markdown",
   "metadata": {},
   "source": [
    "### 2021/3/26\n",
    "\n",
    "**Goal**: Setup and meet with supervisors.\n",
    "\n",
    "- First meeting with project leader. \n",
    "- Introduction to NPL in the biomedical field.\n",
    "- Created Repository & Setup Conda. "
   ]
  },
  {
   "cell_type": "markdown",
   "metadata": {},
   "source": [
    "### 2021/3/30\n",
    "\n",
    "**Goal:** Explore coreference resolution.\n",
    "\n",
    "Read up on coreference resolution:\n",
    "- https://nlp.stanford.edu/projects/coref.shtml \n",
    "- https://towardsdatascience.com/intro-to-coreference-resolution-in-nlp-19788a75adee \n",
    "- https://towardsdatascience.com/most-popular-coreference-resolution-frameworks-574ba8a8cc2d"
   ]
  },
  {
   "cell_type": "markdown",
   "metadata": {},
   "source": [
    "### 2021/3/31\n",
    "\n",
    "**Goal:** Explore the card given by the supervison.\n",
    "\n",
    "Checked out tools and solutions\\\n",
    "https://github.com/huggingface/neuralcoref \\\n",
    "https://medium.com/huggingface/state-of-the-art-neural-coreference-resolution-for-chatbots-3302365dcf30\n",
    "\n",
    "Huggingface's neural coreference resolution tool is built using spaCy 2.1+ and \"annotates and resolves coreference clusters using neural networks\"\n",
    "\n",
    "Found one solution using nerualcoref with biomedical text: https://pypi.org/project/saber/ (Python).\n",
    "\n",
    "Checked out BERT and spanBERT\\\n",
    "https://github.com/mandarjoshi90/coref\n",
    "\n",
    "BERT stands for Bidirectional Encoder Representations from Transformers and uses a transformer-based machine learning technique for natural language processing. The coref library is the code from a paper exploring the use of BERT for coreference resolutions. \n",
    "https://arxiv.org/abs/1908.09091\n",
    "\n",
    "Another solution for coreference resolution in biomedical text: https://github.com/kilicogluh/Bio-SCoRes (Java).\n"
   ]
  },
  {
   "cell_type": "markdown",
   "metadata": {},
   "source": [
    "### 2021/4/6\n",
    "**Goal:** Create a document for the report.\n",
    "\n",
    "Meeting with Supervisor \\\n",
    "Created document for the paper:\n",
    "https://www.overleaf.com/read/xfdmhbzwshty\n"
   ]
  },
  {
   "cell_type": "markdown",
   "metadata": {},
   "source": [
    "### 2021/4/7\n",
    "\n",
    "**Goal:** Download the CRAFT corpus.\n",
    "\n",
    "Downloaded CRAFT from https://github.com/UCDenver-ccp/CRAFT.\n",
    "\n"
   ]
  },
  {
   "cell_type": "markdown",
   "metadata": {},
   "source": [
    "### 2021/4/8\n",
    "\n",
    "**Goal**: Explore the CRAFT corpus.\n",
    "\n",
    "Looked at the format of the annotation in the CRAFT corpus. \\\n",
    "Looked up knowntator & read the wiki from the CRAFT github. \\\n",
    "Read the full article about identity chains, base noun phrase, apossitive relation and nonreferential pronoun. \\\n",
    "https://bmcbioinformatics.biomedcentral.com/articles/10.1186/s12859-017-1775-9 \\\n",
    "https://github.com/UCDenver-ccp/CRAFT/wiki"
   ]
  },
  {
   "cell_type": "markdown",
   "metadata": {},
   "source": [
    "### 2021/4/12\n",
    "\n",
    "**Goal:** Find tools that can be used for coreference resolution, preferably in python.\n",
    "\n",
    "Looked for tools regarding coref resolution.\n",
    "\n",
    "Candidates:\n",
    "- SABER: Sequence Annotator for Biomedical Entities and Relations. Which includes coreference resolution.\n",
    "https://baderlab.github.io/saber/ \n",
    "- BERT https://github.com/mandarjoshi90/coref \n",
    "- NeuralCoref https://github.com/huggingface/neuralcoref \n",
    "\n",
    "\n",
    "Looked at: https://sites.google.com/view/craft-shared-task-2019/results?authuser=0 to see the teams parciptating in the CRAFT 2019 competions but it does not seem like any of them are publically available. "
   ]
  },
  {
   "cell_type": "markdown",
   "metadata": {},
   "source": [
    "### 2021/4/13\n",
    "\n",
    "**Goal:** Descided on and download a coreference tool.\n",
    "\n",
    "Meeting with supervisor.\\\n",
    "Descided that i should explore saber, and if saber is not what were looking for i should go with BERT. Saber is from 2019 which migth be a bit outdated. Also there is no changes to the project for two years which may indicate that the project is abandoned. The same might be said for BERT or rather the project for coref with BERT which is also 2 years old.\n",
    "\n",
    "Installing saber with: pip install git+https://github.com/BaderLab/saber.git which is taking some time. Could not download it with pip due to keras not being avaiable as a pip download. The download is taking a while...\n",
    "\n",
    "**TODO:** Install and try out Saber."
   ]
  },
  {
   "cell_type": "markdown",
   "metadata": {},
   "source": [
    "### 2021/4/14 \n",
    "\n",
    "**Goal:** Installing saber\n",
    "\n",
    "Downloading and installing saber took longer than expected, there seems to be some broken dependency and im trying out a couple of fixes."
   ]
  },
  {
   "cell_type": "markdown",
   "metadata": {},
   "source": [
    "### 2021/4/15 - 2021/4/16\n",
    "\n",
    "**Goal:** Installing saber\n",
    "\n",
    "Build is failing and dependencies are broken so therefor i try the SpanBERT Coref resolution package instead. There seems to be some failing depdencies on the spanBERT aswell but at least the build is not failing.\n",
    "\n",
    "**TODO**: Fix the depdencies issues on spanBERT and hopefully install it."
   ]
  },
  {
   "cell_type": "markdown",
   "metadata": {},
   "source": [
    "### 2021/4/19\n",
    "**Goal**: Installing SpanBERT\n",
    "\n",
    "Seems like tensorflow-gpu does not exists for Mac will try to install it on my Windows PC if there is no workaround.\n",
    "\n",
    "Installed SpanBERT on my Windows PC with python version 3.5.\n",
    "\n",
    "**TODO**: Try out SpanBERT and read up on how to train new models"
   ]
  },
  {
   "cell_type": "markdown",
   "metadata": {},
   "source": [
    "### 2021/4/20 - 2021/4/21\n",
    "\n",
    "**Goal**: Try out SpanBERT\n",
    "\n",
    "This task was harder than expected cause of the tool not being a library like saber and nerualcoref. Therefor i have to use the file downloaded from the github and try to work out how to use the tool. There is also no apparent instructions on how to run it so i have to experiment on how to use it. Ive also run into a problem with nvcuda.dll cause i dont have a nivida graphics card. Im trying to find a workaround to this problem otherwise il have to use a cluster or Google Colab.\n",
    "\n",
    "**TODO:** Run a prediction with SpanBERT"
   ]
  },
  {
   "cell_type": "markdown",
   "metadata": {},
   "source": [
    "### 2021/4/22\n",
    "\n",
    "**Goal**: Make a prediction with SpanBERT\n",
    "\n",
    "Found a good Google Colab notebook which already setup SpanBERT for use, tried this with the a random text and the pretrained model and got a prediction. Next step would be to find out how you train new models. \n",
    "\n",
    "**TODO:** Figure out how to train models with SpanBERT"
   ]
  },
  {
   "cell_type": "markdown",
   "metadata": {},
   "source": [
    "### 2021/4/22\n",
    "\n",
    "**Goal:** Supervisor meeting \n",
    "\n",
    "Met with the supervisor and descided on the work to do glancing forward. \n",
    "\n",
    "**TODO:** \n",
    "- Check or convert CRAFT so we can use it with SpanBERT\n",
    "- Evaluate SpanBERT base model on CRAFT"
   ]
  },
  {
   "cell_type": "markdown",
   "metadata": {},
   "source": [
    "### 2021/4/27\n",
    "\n",
    "**Goal:** Setup Google Colab with SpanBERT\n",
    "\n",
    "Made a own google colab with SpanBERT.\n",
    "\n",
    "**TODO:** Put up download instructions, write about saber in report."
   ]
  },
  {
   "cell_type": "code",
   "execution_count": null,
   "metadata": {},
   "outputs": [],
   "source": []
  }
 ],
 "metadata": {
  "kernelspec": {
   "display_name": "Python 3",
   "language": "python",
   "name": "python3"
  },
  "language_info": {
   "codemirror_mode": {
    "name": "ipython",
    "version": 3
   },
   "file_extension": ".py",
   "mimetype": "text/x-python",
   "name": "python",
   "nbconvert_exporter": "python",
   "pygments_lexer": "ipython3",
   "version": "3.8.5"
  }
 },
 "nbformat": 4,
 "nbformat_minor": 5
}
