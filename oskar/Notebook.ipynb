{
 "cells": [
  {
   "cell_type": "markdown",
   "id": "capital-pursuit",
   "metadata": {},
   "source": [
    "# Notebook - Oskar"
   ]
  },
  {
   "cell_type": "markdown",
   "id": "retained-coverage",
   "metadata": {},
   "source": [
    "## Python Depdencies\n",
    "Python Version: \n"
   ]
  },
  {
   "cell_type": "markdown",
   "id": "driven-swift",
   "metadata": {},
   "source": [
    "## Introduction and Reading"
   ]
  },
  {
   "cell_type": "markdown",
   "id": "physical-address",
   "metadata": {},
   "source": [
    "### 26/4\n",
    "- First meeting with project leader. \n",
    "- Introduction to NPL in the biomedical field.\n",
    "- Created Repository & Setup Conda. "
   ]
  },
  {
   "cell_type": "markdown",
   "id": "covered-computer",
   "metadata": {},
   "source": [
    "### 30/4 \n",
    "Read up on coreference resolution.\\\n",
    "https://nlp.stanford.edu/projects/coref.shtml \\\n",
    "https://towardsdatascience.com/intro-to-coreference-resolution-in-nlp-19788a75adee \\\n",
    "https://towardsdatascience.com/most-popular-coreference-resolution-frameworks-574ba8a8cc2d"
   ]
  },
  {
   "cell_type": "markdown",
   "id": "refined-hospital",
   "metadata": {},
   "source": [
    "### 31/4\n",
    "Checked out tools and solutions\\\n",
    "https://github.com/huggingface/neuralcoref \\\n",
    "https://medium.com/huggingface/state-of-the-art-neural-coreference-resolution-for-chatbots-3302365dcf30\n",
    "\n",
    "Huggingface's neural coreference resolution tool is built using spaCy 2.1+ and \"annotates and resolves coreference clusters using neural networks\"\n",
    "\n",
    "Found one solution using nerualcoref with biomedical text: https://pypi.org/project/saber/ (Python).\n",
    "\n",
    "Checked out BERT and spanBERT\\\n",
    "https://github.com/mandarjoshi90/coref\n",
    "\n",
    "BERT stands for Bidirectional Encoder Representations from Transformers and uses a transformer-based machine learning technique for natural language processing. The coref library is the code from a paper exploring the use of BERT for coreference resolutions. \n",
    "https://arxiv.org/abs/1908.09091\n",
    "\n",
    "Another solution for coreference resolution in biomedical text: https://github.com/kilicogluh/Bio-SCoRes (Java)."
   ]
  },
  {
   "cell_type": "code",
   "execution_count": null,
   "id": "amended-doubt",
   "metadata": {},
   "outputs": [],
   "source": []
  }
 ],
 "metadata": {
  "kernelspec": {
   "display_name": "python3.7",
   "language": "python",
   "name": "python3.7"
  },
  "language_info": {
   "codemirror_mode": {
    "name": "ipython",
    "version": 3
   },
   "file_extension": ".py",
   "mimetype": "text/x-python",
   "name": "python",
   "nbconvert_exporter": "python",
   "pygments_lexer": "ipython3",
   "version": "3.7.10"
  }
 },
 "nbformat": 4,
 "nbformat_minor": 5
}
