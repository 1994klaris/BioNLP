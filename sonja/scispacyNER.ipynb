{
 "cells": [
  {
   "cell_type": "markdown",
   "metadata": {},
   "source": [
    "# Named entity recognition with scispacy"
   ]
  },
  {
   "cell_type": "code",
   "execution_count": 1,
   "metadata": {},
   "outputs": [],
   "source": [
    "import spacy\n",
    "sci_md = 'C:\\\\Users\\\\Sonja\\\\Anaconda3\\\\envs\\\\scispacy\\\\Lib\\\\site-packages\\\\en_core_sci_md\\\\en_core_sci_md-0.2.4'\n",
    "jnlpba = 'C:\\\\Users\\\\Sonja\\\\Anaconda3\\\\envs\\\\scispacy\\\\Lib\\\\site-packages\\\\en_ner_jnlpba_md\\en_ner_jnlpba_md-0.2.4'"
   ]
  },
  {
   "cell_type": "code",
   "execution_count": 2,
   "metadata": {},
   "outputs": [],
   "source": [
    "nlp_sci_md = spacy.load(sci_md)"
   ]
  },
  {
   "cell_type": "code",
   "execution_count": 10,
   "metadata": {},
   "outputs": [
    {
     "name": "stdout",
     "output_type": "stream",
     "text": [
      "1. Cell Death Differ. 2019 Dec 20. doi: 10.1038/s41418-019-0483-6. [Epub ahead of\n",
      "print]\n",
      "\n",
      "HnRNP F/H associate with hTERC and telomerase holoenzyme to modulate telomerase\n",
      "function and promote cell proliferation.\n",
      "\n",
      "Xu C(1), Xie N(2), Su Y(1), Sun Z(1), Liang Y(1), Zhang N(1), Liu D(1), Jia S(3),\n",
      "Xing X(3), Han L(1), Li G(1), Tong T(1), Chen J(4).\n",
      "\n",
      "Author information: \n",
      "(1)Peking University Research Center on Aging, Beijing Key Laboratory of Protein \n",
      "Posttranslational Modifications and Cell Function, Department of Biochemistry and\n",
      "Molecular Biology, Department of Integration of Chinese and Western Medicine,\n",
      "School of Basic Medical Science, Peking University, Beijing, 100191, China.\n",
      "(2)Department of Physiology and Pathophysiology, School of Basic Medical Science,\n",
      "Peking University, Beijing, 100191, China.\n",
      "(3)Department of Molecular Diagnostics, Key Laboratory of Carcinogenesis and\n",
      "Translational Research (Ministry of Education), Peking University Cancer Hospital\n",
      "& Institute, Beijing, 100142, China.\n",
      "(4)Peking University Research Center on Aging, Beijing Key Laboratory of Protein \n",
      "Posttranslational Modifications and Cell Function, Department of Biochemistry and\n",
      "Molecular Biology, Department of Integration of Chinese and Western Medicine,\n",
      "School of Basic Medical Science, Peking University, Beijing, 100191, China.\n",
      "cjbiochem@bjmu.edu.cn.\n",
      "\n",
      "Human telomerase RNA component hTERC comprises multiple motifs that contribute to\n",
      "hTERC biogenesis, holoenzyme activity, and enzyme recruitment to telomeres. hTERC\n",
      "contains several guanine tracts (G-tracts) at its 5'-end, but its associated\n",
      "proteins and potential roles in telomerase function are still poorly understood. \n",
      "The heterogeneous nuclear ribonucleoproteins F, H1, and H2 (hnRNP F/H) are\n",
      "splicing factors that preferentially bind to poly(G)-rich sequences RNA. Here, we\n",
      "demonstrate that hnRNP F/H associate with both hTERC and telomerase holoenzyme to\n",
      "regulate telomerase activity. We reveal hnRNP F/H bind to the 5'-end region of\n",
      "hTERC in vitro and in vivo, and identify the first three G-tracts of hTERC and\n",
      "qRRM1 domain of hnRNP F/H are required for their interaction. Furthermore, hnRNP \n",
      "F/H also directly interact with telomerase holoenzyme. Functionally, we show that\n",
      "hnRNP F/H plays important roles in modulating telomerase activity and telomere\n",
      "length. Moreover, hnRNP F/H deletion greatly impair cancer and stem cell\n",
      "proliferation, and induce stem cell senescence, while hnRNP F/H overexpression\n",
      "delay stem cell senescence. Collectively, our findings unveil a novel role of\n",
      "hnRNP F/H as the binding partners of hTERC and telomerase holoenzyme to regulate \n",
      "telomerase function.\n",
      "\n",
      "DOI: 10.1038/s41418-019-0483-6 \n",
      "PMID: 31863069 \n",
      "\n"
     ]
    }
   ],
   "source": [
    "abstract = open('abstract1.txt', encoding=\"utf8\").read()\n",
    "len(abstract)\n",
    "print(abstract)"
   ]
  },
  {
   "cell_type": "code",
   "execution_count": 7,
   "metadata": {},
   "outputs": [
    {
     "name": "stdout",
     "output_type": "stream",
     "text": [
      "(Cell Death, print, HnRNP, F/H, hTERC, telomerase holoenzyme, telomerase\n",
      ", function, promote, cell proliferation, Sun Z(1, Liang Y(1), Zhang N(1), Liu D(1), Han L(1, Li G(1, Tong T(1), Author information, University Research Center, Aging, Beijing, Posttranslational, Cell Function, Department of Biochemistry, Molecular Biology, Integration, Chinese, Western Medicine, Peking University, Beijing, China, (2)Department, Physiology, Pathophysiology, School of Basic Medical Science, Peking University, Beijing, China, (3)Department, Molecular Diagnostics, Laboratory, Carcinogenesis, Translational Research, Peking University Cancer Hospital, Beijing, China, (4)Peking University Research Center, Aging, Beijing, Posttranslational, Cell Function, Department of Biochemistry, Molecular Biology, Integration, Chinese, Western Medicine, Peking University, Beijing, China, Human telomerase RNA component hTERC, multiple motifs, hTERC, biogenesis, holoenzyme activity, enzyme, telomeres, hTERC, guanine tracts, G-tracts, 5'-end, proteins, telomerase function, heterogeneous, nuclear ribonucleoproteins F, H1, H2, hnRNP, F/H, splicing factors, bind, poly(G)-rich sequences RNA, hnRNP, F/H, hTERC, telomerase holoenzyme, regulate, telomerase activity, hnRNP, F/H, bind, 5'-end region, hTERC, in vitro, in vivo, G-tracts, hTERC, qRRM1 domain, hnRNP, F/H, interaction, hnRNP, F/H, telomerase holoenzyme, hnRNP, F/H, modulating, telomerase activity, telomere, length, hnRNP, F/H, deletion, impair, cancer, stem cell, proliferation, induce, stem cell, senescence, hnRNP, F/H, overexpression, delay, stem cell, senescence, findings, hnRNP, F/H, binding partners, hTERC, telomerase holoenzyme, telomerase function, DOI, PMID)\n",
      "\n",
      "134\n"
     ]
    }
   ],
   "source": [
    "doc_sci_md = nlp_sci_md(abstract)\n",
    "print(doc_sci_md.ents)\n",
    "print()\n",
    "print(len(doc_sci_md.ents))"
   ]
  },
  {
   "cell_type": "code",
   "execution_count": 25,
   "metadata": {},
   "outputs": [
    {
     "name": "stdout",
     "output_type": "stream",
     "text": [
      "(HnRNP F/H, hTERC, telomerase holoenzyme, telomerase\n",
      ", S(3, G(1, Protein \n",
      ", Protein \n",
      ", hTERC, holoenzyme, hTERC\n",
      ", 5'-end, telomerase, H1, H2, hnRNP F/H, poly(G)-rich sequences RNA, hnRNP F/H, hTERC, telomerase holoenzyme, telomerase, hnRNP F/H, 5'-end region, hTERC, hnRNP F/H, hnRNP \n",
      "F/H, telomerase holoenzyme, telomerase, telomere\n",
      "length, hnRNP F/H deletion, cancer and stem cell\n",
      ", hnRNP F/H, hTERC, telomerase holoenzyme)\n",
      "\n",
      "34\n"
     ]
    }
   ],
   "source": [
    "nlp_jnlpba = spacy.load(jnlpba)\n",
    "doc_jnlpba = nlp_jnlpba(abstract)\n",
    "print(doc_jnlpba.ents)\n",
    "print()\n",
    "print(len(doc_jnlpba.ents))"
   ]
  },
  {
   "cell_type": "code",
   "execution_count": 13,
   "metadata": {},
   "outputs": [
    {
     "data": {
      "text/html": [
       "<div class=\"entities\" style=\"line-height: 2.5; direction: ltr\">1. Cell Death Differ. 2019 Dec 20. doi: 10.1038/s41418-019-0483-6. [Epub ahead of</br>print]</br></br>\n",
       "<mark class=\"entity\" style=\"background: #ddd; padding: 0.45em 0.6em; margin: 0 0.25em; line-height: 1; border-radius: 0.35em;\">\n",
       "    HnRNP F/H\n",
       "    <span style=\"font-size: 0.8em; font-weight: bold; line-height: 1; border-radius: 0.35em; text-transform: uppercase; vertical-align: middle; margin-left: 0.5rem\">PROTEIN</span>\n",
       "</mark>\n",
       " associate with \n",
       "<mark class=\"entity\" style=\"background: #ddd; padding: 0.45em 0.6em; margin: 0 0.25em; line-height: 1; border-radius: 0.35em;\">\n",
       "    hTERC\n",
       "    <span style=\"font-size: 0.8em; font-weight: bold; line-height: 1; border-radius: 0.35em; text-transform: uppercase; vertical-align: middle; margin-left: 0.5rem\">PROTEIN</span>\n",
       "</mark>\n",
       " and \n",
       "<mark class=\"entity\" style=\"background: #ddd; padding: 0.45em 0.6em; margin: 0 0.25em; line-height: 1; border-radius: 0.35em;\">\n",
       "    telomerase holoenzyme\n",
       "    <span style=\"font-size: 0.8em; font-weight: bold; line-height: 1; border-radius: 0.35em; text-transform: uppercase; vertical-align: middle; margin-left: 0.5rem\">PROTEIN</span>\n",
       "</mark>\n",
       " to modulate \n",
       "<mark class=\"entity\" style=\"background: #ddd; padding: 0.45em 0.6em; margin: 0 0.25em; line-height: 1; border-radius: 0.35em;\">\n",
       "    telomerase\n",
       "\n",
       "    <span style=\"font-size: 0.8em; font-weight: bold; line-height: 1; border-radius: 0.35em; text-transform: uppercase; vertical-align: middle; margin-left: 0.5rem\">PROTEIN</span>\n",
       "</mark>\n",
       "function and promote cell proliferation.</br></br>Xu C(1), Xie N(2), Su Y(1), Sun Z(1), Liang Y(1), Zhang N(1), Liu D(1), Jia \n",
       "<mark class=\"entity\" style=\"background: #ddd; padding: 0.45em 0.6em; margin: 0 0.25em; line-height: 1; border-radius: 0.35em;\">\n",
       "    S(3\n",
       "    <span style=\"font-size: 0.8em; font-weight: bold; line-height: 1; border-radius: 0.35em; text-transform: uppercase; vertical-align: middle; margin-left: 0.5rem\">PROTEIN</span>\n",
       "</mark>\n",
       "),</br>Xing X(3), Han L(1), Li \n",
       "<mark class=\"entity\" style=\"background: #ddd; padding: 0.45em 0.6em; margin: 0 0.25em; line-height: 1; border-radius: 0.35em;\">\n",
       "    G(1\n",
       "    <span style=\"font-size: 0.8em; font-weight: bold; line-height: 1; border-radius: 0.35em; text-transform: uppercase; vertical-align: middle; margin-left: 0.5rem\">PROTEIN</span>\n",
       "</mark>\n",
       "), Tong T(1), Chen J(4).</br></br>Author information: </br>(1)Peking University Research Center on Aging, Beijing Key Laboratory of \n",
       "<mark class=\"entity\" style=\"background: #ddd; padding: 0.45em 0.6em; margin: 0 0.25em; line-height: 1; border-radius: 0.35em;\">\n",
       "    Protein \n",
       "\n",
       "    <span style=\"font-size: 0.8em; font-weight: bold; line-height: 1; border-radius: 0.35em; text-transform: uppercase; vertical-align: middle; margin-left: 0.5rem\">PROTEIN</span>\n",
       "</mark>\n",
       "Posttranslational Modifications and Cell Function, Department of Biochemistry and</br>Molecular Biology, Department of Integration of Chinese and Western Medicine,</br>School of Basic Medical Science, Peking University, Beijing, 100191, China.</br>(2)Department of Physiology and Pathophysiology, School of Basic Medical Science,</br>Peking University, Beijing, 100191, China.</br>(3)Department of Molecular Diagnostics, Key Laboratory of Carcinogenesis and</br>Translational Research (Ministry of Education), Peking University Cancer Hospital</br>&amp; Institute, Beijing, 100142, China.</br>(4)Peking University Research Center on Aging, Beijing Key Laboratory of \n",
       "<mark class=\"entity\" style=\"background: #ddd; padding: 0.45em 0.6em; margin: 0 0.25em; line-height: 1; border-radius: 0.35em;\">\n",
       "    Protein \n",
       "\n",
       "    <span style=\"font-size: 0.8em; font-weight: bold; line-height: 1; border-radius: 0.35em; text-transform: uppercase; vertical-align: middle; margin-left: 0.5rem\">PROTEIN</span>\n",
       "</mark>\n",
       "Posttranslational Modifications and Cell Function, Department of Biochemistry and</br>Molecular Biology, Department of Integration of Chinese and Western Medicine,</br>School of Basic Medical Science, Peking University, Beijing, 100191, China.</br>cjbiochem@bjmu.edu.cn.</br></br>Human telomerase RNA component hTERC comprises multiple motifs that contribute to</br>\n",
       "<mark class=\"entity\" style=\"background: #ddd; padding: 0.45em 0.6em; margin: 0 0.25em; line-height: 1; border-radius: 0.35em;\">\n",
       "    hTERC\n",
       "    <span style=\"font-size: 0.8em; font-weight: bold; line-height: 1; border-radius: 0.35em; text-transform: uppercase; vertical-align: middle; margin-left: 0.5rem\">PROTEIN</span>\n",
       "</mark>\n",
       " biogenesis, \n",
       "<mark class=\"entity\" style=\"background: #ddd; padding: 0.45em 0.6em; margin: 0 0.25em; line-height: 1; border-radius: 0.35em;\">\n",
       "    holoenzyme\n",
       "    <span style=\"font-size: 0.8em; font-weight: bold; line-height: 1; border-radius: 0.35em; text-transform: uppercase; vertical-align: middle; margin-left: 0.5rem\">PROTEIN</span>\n",
       "</mark>\n",
       " activity, and enzyme recruitment to telomeres. \n",
       "<mark class=\"entity\" style=\"background: #ddd; padding: 0.45em 0.6em; margin: 0 0.25em; line-height: 1; border-radius: 0.35em;\">\n",
       "    hTERC\n",
       "\n",
       "    <span style=\"font-size: 0.8em; font-weight: bold; line-height: 1; border-radius: 0.35em; text-transform: uppercase; vertical-align: middle; margin-left: 0.5rem\">PROTEIN</span>\n",
       "</mark>\n",
       "contains several guanine tracts (G-tracts) at its \n",
       "<mark class=\"entity\" style=\"background: #ddd; padding: 0.45em 0.6em; margin: 0 0.25em; line-height: 1; border-radius: 0.35em;\">\n",
       "    5'-end\n",
       "    <span style=\"font-size: 0.8em; font-weight: bold; line-height: 1; border-radius: 0.35em; text-transform: uppercase; vertical-align: middle; margin-left: 0.5rem\">DNA</span>\n",
       "</mark>\n",
       ", but its associated</br>proteins and potential roles in \n",
       "<mark class=\"entity\" style=\"background: #ddd; padding: 0.45em 0.6em; margin: 0 0.25em; line-height: 1; border-radius: 0.35em;\">\n",
       "    telomerase\n",
       "    <span style=\"font-size: 0.8em; font-weight: bold; line-height: 1; border-radius: 0.35em; text-transform: uppercase; vertical-align: middle; margin-left: 0.5rem\">PROTEIN</span>\n",
       "</mark>\n",
       " function are still poorly understood. </br>The heterogeneous nuclear ribonucleoproteins F, \n",
       "<mark class=\"entity\" style=\"background: #ddd; padding: 0.45em 0.6em; margin: 0 0.25em; line-height: 1; border-radius: 0.35em;\">\n",
       "    H1\n",
       "    <span style=\"font-size: 0.8em; font-weight: bold; line-height: 1; border-radius: 0.35em; text-transform: uppercase; vertical-align: middle; margin-left: 0.5rem\">PROTEIN</span>\n",
       "</mark>\n",
       ", and \n",
       "<mark class=\"entity\" style=\"background: #ddd; padding: 0.45em 0.6em; margin: 0 0.25em; line-height: 1; border-radius: 0.35em;\">\n",
       "    H2\n",
       "    <span style=\"font-size: 0.8em; font-weight: bold; line-height: 1; border-radius: 0.35em; text-transform: uppercase; vertical-align: middle; margin-left: 0.5rem\">PROTEIN</span>\n",
       "</mark>\n",
       " (\n",
       "<mark class=\"entity\" style=\"background: #ddd; padding: 0.45em 0.6em; margin: 0 0.25em; line-height: 1; border-radius: 0.35em;\">\n",
       "    hnRNP F/H\n",
       "    <span style=\"font-size: 0.8em; font-weight: bold; line-height: 1; border-radius: 0.35em; text-transform: uppercase; vertical-align: middle; margin-left: 0.5rem\">PROTEIN</span>\n",
       "</mark>\n",
       ") are</br>splicing factors that preferentially bind to \n",
       "<mark class=\"entity\" style=\"background: #ddd; padding: 0.45em 0.6em; margin: 0 0.25em; line-height: 1; border-radius: 0.35em;\">\n",
       "    poly(G)-rich sequences RNA\n",
       "    <span style=\"font-size: 0.8em; font-weight: bold; line-height: 1; border-radius: 0.35em; text-transform: uppercase; vertical-align: middle; margin-left: 0.5rem\">DNA</span>\n",
       "</mark>\n",
       ". Here, we</br>demonstrate that \n",
       "<mark class=\"entity\" style=\"background: #ddd; padding: 0.45em 0.6em; margin: 0 0.25em; line-height: 1; border-radius: 0.35em;\">\n",
       "    hnRNP F/H\n",
       "    <span style=\"font-size: 0.8em; font-weight: bold; line-height: 1; border-radius: 0.35em; text-transform: uppercase; vertical-align: middle; margin-left: 0.5rem\">PROTEIN</span>\n",
       "</mark>\n",
       " associate with both \n",
       "<mark class=\"entity\" style=\"background: #ddd; padding: 0.45em 0.6em; margin: 0 0.25em; line-height: 1; border-radius: 0.35em;\">\n",
       "    hTERC\n",
       "    <span style=\"font-size: 0.8em; font-weight: bold; line-height: 1; border-radius: 0.35em; text-transform: uppercase; vertical-align: middle; margin-left: 0.5rem\">PROTEIN</span>\n",
       "</mark>\n",
       " and \n",
       "<mark class=\"entity\" style=\"background: #ddd; padding: 0.45em 0.6em; margin: 0 0.25em; line-height: 1; border-radius: 0.35em;\">\n",
       "    telomerase holoenzyme\n",
       "    <span style=\"font-size: 0.8em; font-weight: bold; line-height: 1; border-radius: 0.35em; text-transform: uppercase; vertical-align: middle; margin-left: 0.5rem\">PROTEIN</span>\n",
       "</mark>\n",
       " to</br>regulate \n",
       "<mark class=\"entity\" style=\"background: #ddd; padding: 0.45em 0.6em; margin: 0 0.25em; line-height: 1; border-radius: 0.35em;\">\n",
       "    telomerase\n",
       "    <span style=\"font-size: 0.8em; font-weight: bold; line-height: 1; border-radius: 0.35em; text-transform: uppercase; vertical-align: middle; margin-left: 0.5rem\">PROTEIN</span>\n",
       "</mark>\n",
       " activity. We reveal \n",
       "<mark class=\"entity\" style=\"background: #ddd; padding: 0.45em 0.6em; margin: 0 0.25em; line-height: 1; border-radius: 0.35em;\">\n",
       "    hnRNP F/H\n",
       "    <span style=\"font-size: 0.8em; font-weight: bold; line-height: 1; border-radius: 0.35em; text-transform: uppercase; vertical-align: middle; margin-left: 0.5rem\">PROTEIN</span>\n",
       "</mark>\n",
       " bind to the \n",
       "<mark class=\"entity\" style=\"background: #ddd; padding: 0.45em 0.6em; margin: 0 0.25em; line-height: 1; border-radius: 0.35em;\">\n",
       "    5'-end region\n",
       "    <span style=\"font-size: 0.8em; font-weight: bold; line-height: 1; border-radius: 0.35em; text-transform: uppercase; vertical-align: middle; margin-left: 0.5rem\">DNA</span>\n",
       "</mark>\n",
       " of</br>hTERC in vitro and in vivo, and identify the first three G-tracts of \n",
       "<mark class=\"entity\" style=\"background: #ddd; padding: 0.45em 0.6em; margin: 0 0.25em; line-height: 1; border-radius: 0.35em;\">\n",
       "    hTERC\n",
       "    <span style=\"font-size: 0.8em; font-weight: bold; line-height: 1; border-radius: 0.35em; text-transform: uppercase; vertical-align: middle; margin-left: 0.5rem\">PROTEIN</span>\n",
       "</mark>\n",
       " and</br>qRRM1 domain of \n",
       "<mark class=\"entity\" style=\"background: #ddd; padding: 0.45em 0.6em; margin: 0 0.25em; line-height: 1; border-radius: 0.35em;\">\n",
       "    hnRNP F/H\n",
       "    <span style=\"font-size: 0.8em; font-weight: bold; line-height: 1; border-radius: 0.35em; text-transform: uppercase; vertical-align: middle; margin-left: 0.5rem\">PROTEIN</span>\n",
       "</mark>\n",
       " are required for their interaction. Furthermore, \n",
       "<mark class=\"entity\" style=\"background: #ddd; padding: 0.45em 0.6em; margin: 0 0.25em; line-height: 1; border-radius: 0.35em;\">\n",
       "    hnRNP \n",
       "F/H\n",
       "    <span style=\"font-size: 0.8em; font-weight: bold; line-height: 1; border-radius: 0.35em; text-transform: uppercase; vertical-align: middle; margin-left: 0.5rem\">PROTEIN</span>\n",
       "</mark>\n",
       " also directly interact with \n",
       "<mark class=\"entity\" style=\"background: #ddd; padding: 0.45em 0.6em; margin: 0 0.25em; line-height: 1; border-radius: 0.35em;\">\n",
       "    telomerase holoenzyme\n",
       "    <span style=\"font-size: 0.8em; font-weight: bold; line-height: 1; border-radius: 0.35em; text-transform: uppercase; vertical-align: middle; margin-left: 0.5rem\">PROTEIN</span>\n",
       "</mark>\n",
       ". Functionally, we show that</br>hnRNP F/H plays important roles in modulating \n",
       "<mark class=\"entity\" style=\"background: #ddd; padding: 0.45em 0.6em; margin: 0 0.25em; line-height: 1; border-radius: 0.35em;\">\n",
       "    telomerase\n",
       "    <span style=\"font-size: 0.8em; font-weight: bold; line-height: 1; border-radius: 0.35em; text-transform: uppercase; vertical-align: middle; margin-left: 0.5rem\">PROTEIN</span>\n",
       "</mark>\n",
       " activity and \n",
       "<mark class=\"entity\" style=\"background: #ddd; padding: 0.45em 0.6em; margin: 0 0.25em; line-height: 1; border-radius: 0.35em;\">\n",
       "    telomere\n",
       "length\n",
       "    <span style=\"font-size: 0.8em; font-weight: bold; line-height: 1; border-radius: 0.35em; text-transform: uppercase; vertical-align: middle; margin-left: 0.5rem\">DNA</span>\n",
       "</mark>\n",
       ". Moreover, \n",
       "<mark class=\"entity\" style=\"background: #ddd; padding: 0.45em 0.6em; margin: 0 0.25em; line-height: 1; border-radius: 0.35em;\">\n",
       "    hnRNP F/H deletion\n",
       "    <span style=\"font-size: 0.8em; font-weight: bold; line-height: 1; border-radius: 0.35em; text-transform: uppercase; vertical-align: middle; margin-left: 0.5rem\">DNA</span>\n",
       "</mark>\n",
       " greatly impair \n",
       "<mark class=\"entity\" style=\"background: #ddd; padding: 0.45em 0.6em; margin: 0 0.25em; line-height: 1; border-radius: 0.35em;\">\n",
       "    cancer and stem cell\n",
       "\n",
       "    <span style=\"font-size: 0.8em; font-weight: bold; line-height: 1; border-radius: 0.35em; text-transform: uppercase; vertical-align: middle; margin-left: 0.5rem\">CELL_LINE</span>\n",
       "</mark>\n",
       "proliferation, and induce stem cell senescence, while \n",
       "<mark class=\"entity\" style=\"background: #ddd; padding: 0.45em 0.6em; margin: 0 0.25em; line-height: 1; border-radius: 0.35em;\">\n",
       "    hnRNP F/H\n",
       "    <span style=\"font-size: 0.8em; font-weight: bold; line-height: 1; border-radius: 0.35em; text-transform: uppercase; vertical-align: middle; margin-left: 0.5rem\">PROTEIN</span>\n",
       "</mark>\n",
       " overexpression</br>delay stem cell senescence. Collectively, our findings unveil a novel role of</br>hnRNP F/H as the binding partners of \n",
       "<mark class=\"entity\" style=\"background: #ddd; padding: 0.45em 0.6em; margin: 0 0.25em; line-height: 1; border-radius: 0.35em;\">\n",
       "    hTERC\n",
       "    <span style=\"font-size: 0.8em; font-weight: bold; line-height: 1; border-radius: 0.35em; text-transform: uppercase; vertical-align: middle; margin-left: 0.5rem\">PROTEIN</span>\n",
       "</mark>\n",
       " and \n",
       "<mark class=\"entity\" style=\"background: #ddd; padding: 0.45em 0.6em; margin: 0 0.25em; line-height: 1; border-radius: 0.35em;\">\n",
       "    telomerase holoenzyme\n",
       "    <span style=\"font-size: 0.8em; font-weight: bold; line-height: 1; border-radius: 0.35em; text-transform: uppercase; vertical-align: middle; margin-left: 0.5rem\">PROTEIN</span>\n",
       "</mark>\n",
       " to regulate \n",
       "telomerase function.\n",
       "\n",
       "DOI: 10.1038/s41418-019-0483-6 \n",
       "PMID: 31863069 \n",
       "</div>"
      ],
      "text/plain": [
       "<IPython.core.display.HTML object>"
      ]
     },
     "metadata": {},
     "output_type": "display_data"
    }
   ],
   "source": [
    "from spacy import displacy\n",
    "displacy.render(doc_jnlpba, style='ent', jupyter=True)"
   ]
  },
  {
   "cell_type": "code",
   "execution_count": 21,
   "metadata": {},
   "outputs": [
    {
     "name": "stdout",
     "output_type": "stream",
     "text": [
      "[(cancer, 'B', 'CELL_LINE'), (and, 'I', 'CELL_LINE'), (stem, 'I', 'CELL_LINE'), (cell, 'I', 'CELL_LINE'), (\n",
      ", 'I', 'CELL_LINE')]\n",
      "\n",
      "[(China, 'B', 'ENTITY')]\n"
     ]
    }
   ],
   "source": [
    "print([(x, x.ent_iob_, x.ent_type_) for x in doc_jnlpba.ents[30]])\n",
    "print()\n",
    "print([(x, x.ent_iob_, x.ent_type_) for x in doc_sci_md.ents[30]])"
   ]
  },
  {
   "cell_type": "code",
   "execution_count": 30,
   "metadata": {},
   "outputs": [
    {
     "ename": "ValueError",
     "evalue": "[E007] 'AbbreviationDetector' already exists in pipeline. Existing names: ['tagger', 'parser', 'ner', 'AbbreviationDetector']",
     "output_type": "error",
     "traceback": [
      "\u001b[1;31m---------------------------------------------------------------------------\u001b[0m",
      "\u001b[1;31mValueError\u001b[0m                                Traceback (most recent call last)",
      "\u001b[1;32m<ipython-input-30-5a83af5e94af>\u001b[0m in \u001b[0;36m<module>\u001b[1;34m\u001b[0m\n\u001b[0;32m      3\u001b[0m \u001b[1;31m# Add the abbreviation pipe to the spacy pipeline.\u001b[0m\u001b[1;33m\u001b[0m\u001b[1;33m\u001b[0m\u001b[1;33m\u001b[0m\u001b[0m\n\u001b[0;32m      4\u001b[0m \u001b[0mabbreviation_jnlpba\u001b[0m \u001b[1;33m=\u001b[0m \u001b[0mAbbreviationDetector\u001b[0m\u001b[1;33m(\u001b[0m\u001b[0mnlp_jnlpba\u001b[0m\u001b[1;33m)\u001b[0m\u001b[1;33m\u001b[0m\u001b[1;33m\u001b[0m\u001b[0m\n\u001b[1;32m----> 5\u001b[1;33m \u001b[0mnlp_jnlpba\u001b[0m\u001b[1;33m.\u001b[0m\u001b[0madd_pipe\u001b[0m\u001b[1;33m(\u001b[0m\u001b[0mabbreviation_jnlpba\u001b[0m\u001b[1;33m)\u001b[0m\u001b[1;33m\u001b[0m\u001b[1;33m\u001b[0m\u001b[0m\n\u001b[0m\u001b[0;32m      6\u001b[0m \u001b[1;33m\u001b[0m\u001b[0m\n",
      "\u001b[1;32m~\\Anaconda3\\envs\\scispacy\\lib\\site-packages\\spacy\\language.py\u001b[0m in \u001b[0;36madd_pipe\u001b[1;34m(self, component, name, before, after, first, last)\u001b[0m\n\u001b[0;32m    325\u001b[0m             \u001b[0mname\u001b[0m \u001b[1;33m=\u001b[0m \u001b[0mutil\u001b[0m\u001b[1;33m.\u001b[0m\u001b[0mget_component_name\u001b[0m\u001b[1;33m(\u001b[0m\u001b[0mcomponent\u001b[0m\u001b[1;33m)\u001b[0m\u001b[1;33m\u001b[0m\u001b[1;33m\u001b[0m\u001b[0m\n\u001b[0;32m    326\u001b[0m         \u001b[1;32mif\u001b[0m \u001b[0mname\u001b[0m \u001b[1;32min\u001b[0m \u001b[0mself\u001b[0m\u001b[1;33m.\u001b[0m\u001b[0mpipe_names\u001b[0m\u001b[1;33m:\u001b[0m\u001b[1;33m\u001b[0m\u001b[1;33m\u001b[0m\u001b[0m\n\u001b[1;32m--> 327\u001b[1;33m             \u001b[1;32mraise\u001b[0m \u001b[0mValueError\u001b[0m\u001b[1;33m(\u001b[0m\u001b[0mErrors\u001b[0m\u001b[1;33m.\u001b[0m\u001b[0mE007\u001b[0m\u001b[1;33m.\u001b[0m\u001b[0mformat\u001b[0m\u001b[1;33m(\u001b[0m\u001b[0mname\u001b[0m\u001b[1;33m=\u001b[0m\u001b[0mname\u001b[0m\u001b[1;33m,\u001b[0m \u001b[0mopts\u001b[0m\u001b[1;33m=\u001b[0m\u001b[0mself\u001b[0m\u001b[1;33m.\u001b[0m\u001b[0mpipe_names\u001b[0m\u001b[1;33m)\u001b[0m\u001b[1;33m)\u001b[0m\u001b[1;33m\u001b[0m\u001b[1;33m\u001b[0m\u001b[0m\n\u001b[0m\u001b[0;32m    328\u001b[0m         \u001b[1;32mif\u001b[0m \u001b[0msum\u001b[0m\u001b[1;33m(\u001b[0m\u001b[1;33m[\u001b[0m\u001b[0mbool\u001b[0m\u001b[1;33m(\u001b[0m\u001b[0mbefore\u001b[0m\u001b[1;33m)\u001b[0m\u001b[1;33m,\u001b[0m \u001b[0mbool\u001b[0m\u001b[1;33m(\u001b[0m\u001b[0mafter\u001b[0m\u001b[1;33m)\u001b[0m\u001b[1;33m,\u001b[0m \u001b[0mbool\u001b[0m\u001b[1;33m(\u001b[0m\u001b[0mfirst\u001b[0m\u001b[1;33m)\u001b[0m\u001b[1;33m,\u001b[0m \u001b[0mbool\u001b[0m\u001b[1;33m(\u001b[0m\u001b[0mlast\u001b[0m\u001b[1;33m)\u001b[0m\u001b[1;33m]\u001b[0m\u001b[1;33m)\u001b[0m \u001b[1;33m>=\u001b[0m \u001b[1;36m2\u001b[0m\u001b[1;33m:\u001b[0m\u001b[1;33m\u001b[0m\u001b[1;33m\u001b[0m\u001b[0m\n\u001b[0;32m    329\u001b[0m             \u001b[1;32mraise\u001b[0m \u001b[0mValueError\u001b[0m\u001b[1;33m(\u001b[0m\u001b[0mErrors\u001b[0m\u001b[1;33m.\u001b[0m\u001b[0mE006\u001b[0m\u001b[1;33m)\u001b[0m\u001b[1;33m\u001b[0m\u001b[1;33m\u001b[0m\u001b[0m\n",
      "\u001b[1;31mValueError\u001b[0m: [E007] 'AbbreviationDetector' already exists in pipeline. Existing names: ['tagger', 'parser', 'ner', 'AbbreviationDetector']"
     ]
    }
   ],
   "source": [
    "from scispacy.abbreviation import AbbreviationDetector\n",
    "\n",
    "# Add the abbreviation pipe to the spacy pipeline. \n",
    "abbreviation_jnlpba = AbbreviationDetector(nlp_jnlpba) \n",
    "nlp_jnlpba.add_pipe(abbreviation_jnlpba)\n",
    "\n"
   ]
  },
  {
   "cell_type": "code",
   "execution_count": 56,
   "metadata": {},
   "outputs": [],
   "source": [
    "# Add the abbreviation pipe to the spacy pipeline. \n",
    "abbreviation_sci_md = AbbreviationDetector(nlp_sci_md) \n",
    "nlp_sci_md.add_pipe(abbreviation_sci_md)"
   ]
  },
  {
   "cell_type": "code",
   "execution_count": 58,
   "metadata": {},
   "outputs": [
    {
     "name": "stdout",
     "output_type": "stream",
     "text": [
      "Abbreviation \t Definition\n",
      "SBMA \t (33, 34) Spinal and bulbar muscular atrophy\n",
      "SBMA \t (6, 7) Spinal and bulbar muscular atrophy\n",
      "AR \t (29, 30) androgen receptor\n"
     ]
    }
   ],
   "source": [
    "#verify it works\n",
    "doc = nlp_sci_md(\"Spinal and bulbar muscular atrophy (SBMA) is an \\\n",
    "           inherited motor neuron disease caused by the expansion \\\n",
    "           of a polyglutamine tract within the androgen receptor (AR). \\\n",
    "           SBMA can be caused by this easily.\")\n",
    "\n",
    "print(\"Abbreviation\", \"\\t\", \"Definition\")\n",
    "for abrv in doc._.abbreviations:\n",
    "    print(f\"{abrv} \\t ({abrv.start}, {abrv.end}) {abrv._.long_form}\")"
   ]
  },
  {
   "cell_type": "code",
   "execution_count": 33,
   "metadata": {},
   "outputs": [
    {
     "name": "stdout",
     "output_type": "stream",
     "text": [
      "Abbreviation \t Definition\n"
     ]
    }
   ],
   "source": [
    "print(\"Abbreviation\", \"\\t\", \"Definition\")\n",
    "for abrv in doc_jnlpba._.abbreviations:\n",
    "    print(f\"{abrv} \\t ({abrv.start}, {abrv.end}) {abrv._.long_form}\")"
   ]
  },
  {
   "cell_type": "code",
   "execution_count": 60,
   "metadata": {},
   "outputs": [
    {
     "name": "stdout",
     "output_type": "stream",
     "text": [
      "Abbreviation \t Definition\n"
     ]
    }
   ],
   "source": [
    "print(\"Abbreviation\", \"\\t\", \"Definition\")\n",
    "for abrv in doc_sci_md._.abbreviations:\n",
    "    print(f\"{abrv} \\t ({abrv.start}, {abrv.end}) {abrv._.long_form}\")"
   ]
  },
  {
   "cell_type": "code",
   "execution_count": 54,
   "metadata": {},
   "outputs": [
    {
     "name": "stdout",
     "output_type": "stream",
     "text": [
      "10.1038/s41418\n",
      "0483\n",
      "Y(1\n",
      "Z(1\n",
      "Y(1\n",
      "X(3\n",
      "J(4\n",
      "(1)Peking\n",
      "100191\n",
      "(2)Department\n",
      "100191\n",
      "(3)Department\n",
      "100142\n",
      "(4)Peking\n",
      "100191\n",
      "cjbiochem@bjmu.edu.cn\n",
      "poly(G)-rich\n",
      "qRRM1\n",
      "10.1038/s41418\n",
      "0483\n",
      "31863069\n"
     ]
    }
   ],
   "source": [
    "#print words that are not in the vocab\n",
    "\n",
    "for word in doc_jnlpba:\n",
    "    if word.text in nlp_jnlpba.vocab:\n",
    "        a = 0 #this works but there must be a better way to get it to not do anything \n",
    "    else:\n",
    "        print(word)"
   ]
  },
  {
   "cell_type": "code",
   "execution_count": 61,
   "metadata": {},
   "outputs": [
    {
     "name": "stdout",
     "output_type": "stream",
     "text": [
      "10.1038/s41418\n",
      "0483\n",
      "Y(1\n",
      "Z(1\n",
      "Y(1\n",
      "X(3\n",
      "J(4\n",
      "(1)Peking\n",
      "100191\n",
      "(2)Department\n",
      "100191\n",
      "(3)Department\n",
      "100142\n",
      "(4)Peking\n",
      "100191\n",
      "cjbiochem@bjmu.edu.cn\n",
      "poly(G)-rich\n",
      "qRRM1\n",
      "10.1038/s41418\n",
      "0483\n",
      "31863069\n"
     ]
    }
   ],
   "source": [
    "for word in doc_sci_md:\n",
    "    if word.text in nlp_sci_md.vocab:\n",
    "        a = 0\n",
    "    else:\n",
    "        print(word)"
   ]
  },
  {
   "cell_type": "code",
   "execution_count": null,
   "metadata": {},
   "outputs": [],
   "source": []
  }
 ],
 "metadata": {
  "kernelspec": {
   "display_name": "Python 3",
   "language": "python",
   "name": "python3"
  },
  "language_info": {
   "codemirror_mode": {
    "name": "ipython",
    "version": 3
   },
   "file_extension": ".py",
   "mimetype": "text/x-python",
   "name": "python",
   "nbconvert_exporter": "python",
   "pygments_lexer": "ipython3",
   "version": "3.7.4"
  }
 },
 "nbformat": 4,
 "nbformat_minor": 4
}
